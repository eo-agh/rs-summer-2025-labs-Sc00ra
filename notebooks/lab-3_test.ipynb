{
 "cells": [
  {
   "cell_type": "markdown",
   "id": "075d6ef3",
   "metadata": {},
   "source": [
    "# Exercise: Create a Python Package for Cloud-Free Mosaics"
   ]
  },
  {
   "cell_type": "markdown",
   "id": "fc0e5549",
   "metadata": {},
   "source": [
    "In this exercise, your goal is to:\n",
    "\n",
    "1. Create a function that generates a cloud-free mosaic using Sentinel-2 data and Google Earth Engine.\n",
    "2. Turn this function into a reusable Python package.\n",
    "3. Organize your code using proper Python package structure.\n",
    "4. Install your package locally in editable mode.\n",
    "5. Test your package using a script or notebook."
   ]
  },
  {
   "cell_type": "markdown",
   "id": "126bb9a5",
   "metadata": {},
   "source": [
    "## Step 1: Write the Function\n",
    "Create a function called `create_cloud_free_mosaic(aoi, start_date, end_date)` that:\n",
    "- Filters Sentinel-2 imagery by date and area,\n",
    "- Applies a cloud mask using the `QA60` band,\n",
    "- Returns a cloud-free median composite."
   ]
  },
  {
   "cell_type": "markdown",
   "id": "2091c202",
   "metadata": {},
   "source": [
    "## Step 2: Create the Package Structure\n",
    "Use the following folder layout:\n",
    "\n",
    "```\n",
    "geoapps/\n",
    "├── geoapps/\n",
    "│   ├── __init__.py\n",
    "│   └── lab03/\n",
    "│       ├── __init__.py\n",
    "│       └── cloud_mosaic.py  # <- your function goes here\n",
    "├── pyproject.toml\n",
    "└── README.md\n",
    "```"
   ]
  },
  {
   "cell_type": "markdown",
   "id": "3858d1a2",
   "metadata": {},
   "source": [
    "## Step 3: Create `pyproject.toml`\n",
    "Use the following template:\n",
    "\n",
    "```toml\n",
    "[build-system]\n",
    "requires = [\"setuptools\", \"wheel\"]\n",
    "build-backend = \"setuptools.build_meta\"\n",
    "\n",
    "[project]\n",
    "name = \"geoapps\"\n",
    "version = \"0.1.0\"\n",
    "requires-python = \">=3.10\"\n",
    "description = \"EO utilities for cloud-free mosaics\"\n",
    "authors = [\n",
    "  { name = \"Your Name\", email = \"your@email.com\" }\n",
    "]\n",
    "\n",
    "[tool.setuptools.packages.find]\n",
    "where = [\".\"]\n",
    "exclude = [\"tests\", \"notebooks\"]\n",
    "```"
   ]
  },
  {
   "cell_type": "markdown",
   "id": "ef8d1e89",
   "metadata": {},
   "source": [
    "## Step 4: Install Your Package\n",
    "From the root of your project (where `pyproject.toml` is located), run:\n",
    "\n",
    "```bash\n",
    "pip install -e .\n",
    "```"
   ]
  },
  {
   "cell_type": "markdown",
   "id": "ba67b5ce",
   "metadata": {},
   "source": [
    "## Step 5: Test the Package\n",
    "Create a test script or notebook and try importing your function like this:\n",
    "\n",
    "```python\n",
    "from geoapps.lab03.cloud_mosaic import create_cloud_free_mosaic\n",
    "\n",
    "import ee\n",
    "ee.Initialize(project='your-ee-project-id')\n",
    "\n",
    "aoi = ee.Geometry.Rectangle([19.8, 50.0, 20.0, 50.2])\n",
    "mosaic = create_cloud_free_mosaic(aoi, '2023-06-01', '2023-07-01')\n",
    "print(mosaic.getInfo())\n",
    "```"
   ]
  },
  {
   "cell_type": "code",
   "execution_count": 1,
   "id": "7fd3ec44",
   "metadata": {},
   "outputs": [
    {
     "name": "stdout",
     "output_type": "stream",
     "text": []
    }
   ],
   "source": [
    "from geoapps.lab03.cloud_mosaic import create_cloud_free_mosaic\n",
    "import geemap\n",
    "import ee\n",
    "\n",
    "ee.Initialize(project='ee-skoraremotesensing')\n",
    "\n",
    "aoi = ee.Geometry.Rectangle([19.8, 50.0, 20.0, 50.2])\n",
    "\n",
    "# Uzyskaj mozaikę i maskę\n",
    "mosaic, cloud_mask = create_cloud_free_mosaic(aoi, '2023-06-01', '2023-07-01')"
   ]
  },
  {
   "cell_type": "markdown",
   "id": "2c18c732",
   "metadata": {},
   "source": [
    "## Step 6: Bonus – Add a Demo Notebook\n",
    "Create a notebook in a separate `notebooks/` folder where you import and visualize the result using `geemap`:\n",
    "\n",
    "```python\n",
    "import geemap\n",
    "Map = geemap.Map(center=[50.1, 19.9], zoom=10)\n",
    "Map.addLayer(mosaic, {'bands': ['B4', 'B3', 'B2'], 'min': 0, 'max': 3000}, 'Mosaic')\n",
    "Map\n",
    "```"
   ]
  },
  {
   "cell_type": "code",
   "execution_count": 2,
   "id": "420ba95b",
   "metadata": {},
   "outputs": [
    {
     "data": {
      "text/html": [
       "\n",
       "            <style>\n",
       "                .geemap-dark {\n",
       "                    --jp-widgets-color: white;\n",
       "                    --jp-widgets-label-color: white;\n",
       "                    --jp-ui-font-color1: white;\n",
       "                    --jp-layout-color2: #454545;\n",
       "                    background-color: #383838;\n",
       "                }\n",
       "\n",
       "                .geemap-dark .jupyter-button {\n",
       "                    --jp-layout-color3: #383838;\n",
       "                }\n",
       "\n",
       "                .geemap-colab {\n",
       "                    background-color: var(--colab-primary-surface-color, white);\n",
       "                }\n",
       "\n",
       "                .geemap-colab .jupyter-button {\n",
       "                    --jp-layout-color3: var(--colab-primary-surface-color, white);\n",
       "                }\n",
       "            </style>\n",
       "            "
      ],
      "text/plain": [
       "<IPython.core.display.HTML object>"
      ]
     },
     "metadata": {},
     "output_type": "display_data"
    },
    {
     "data": {
      "application/vnd.code.notebook.error": {
       "message": "name 'mosaic' is not defined",
       "name": "NameError",
       "stack": "\u001b[1;31m---------------------------------------------------------------------------\u001b[0m\n\u001b[1;31mNameError\u001b[0m                                 Traceback (most recent call last)\nCell \u001b[1;32mIn[2], line 3\u001b[0m\n\u001b[0;32m      1\u001b[0m \u001b[38;5;28;01mimport\u001b[39;00m\u001b[38;5;250m \u001b[39m\u001b[38;5;21;01mgeemap\u001b[39;00m\n\u001b[0;32m      2\u001b[0m Map \u001b[38;5;241m=\u001b[39m geemap\u001b[38;5;241m.\u001b[39mMap(center\u001b[38;5;241m=\u001b[39m[\u001b[38;5;241m50.1\u001b[39m, \u001b[38;5;241m19.9\u001b[39m], zoom\u001b[38;5;241m=\u001b[39m\u001b[38;5;241m10\u001b[39m)\n\u001b[1;32m----> 3\u001b[0m Map\u001b[38;5;241m.\u001b[39maddLayer(\u001b[43mmosaic\u001b[49m, {\u001b[38;5;124m'\u001b[39m\u001b[38;5;124mmin\u001b[39m\u001b[38;5;124m'\u001b[39m: \u001b[38;5;241m0\u001b[39m, \u001b[38;5;124m'\u001b[39m\u001b[38;5;124mmax\u001b[39m\u001b[38;5;124m'\u001b[39m: \u001b[38;5;241m0.3\u001b[39m}, \u001b[38;5;124m'\u001b[39m\u001b[38;5;124mCloud-Free Mosaic RGB\u001b[39m\u001b[38;5;124m'\u001b[39m)\n\u001b[0;32m      4\u001b[0m Map\u001b[38;5;241m.\u001b[39maddLayer(cloud_mask, {\u001b[38;5;124m'\u001b[39m\u001b[38;5;124mpalette\u001b[39m\u001b[38;5;124m'\u001b[39m: [\u001b[38;5;124m'\u001b[39m\u001b[38;5;124mred\u001b[39m\u001b[38;5;124m'\u001b[39m]}, \u001b[38;5;124m'\u001b[39m\u001b[38;5;124mCloud Mask Overlay\u001b[39m\u001b[38;5;124m'\u001b[39m)\n\u001b[0;32m      5\u001b[0m Map\u001b[38;5;241m.\u001b[39maddLayerControl()\n\n\u001b[1;31mNameError\u001b[0m: name 'mosaic' is not defined"
      }
     },
     "execution_count": 2,
     "metadata": {},
     "output_type": "execute_result"
    }
   ],
   "source": [
    "import geemap\n",
    "Map = geemap.Map(center=[50.1, 19.9], zoom=10)\n",
    "Map.addLayer(mosaic, {'min': 0, 'max': 0.3}, 'Cloud-Free Mosaic RGB')\n",
    "Map.addLayer(cloud_mask, {'palette': ['red']}, 'Cloud Mask Overlay')\n",
    "Map.addLayerControl()\n",
    "Map"
   ]
  },
  {
   "cell_type": "code",
   "execution_count": 3,
   "id": "7e1c6aa5",
   "metadata": {},
   "outputs": [
    {
     "data": {
      "text/html": [
       "\n",
       "            <style>\n",
       "                .geemap-dark {\n",
       "                    --jp-widgets-color: white;\n",
       "                    --jp-widgets-label-color: white;\n",
       "                    --jp-ui-font-color1: white;\n",
       "                    --jp-layout-color2: #454545;\n",
       "                    background-color: #383838;\n",
       "                }\n",
       "\n",
       "                .geemap-dark .jupyter-button {\n",
       "                    --jp-layout-color3: #383838;\n",
       "                }\n",
       "\n",
       "                .geemap-colab {\n",
       "                    background-color: var(--colab-primary-surface-color, white);\n",
       "                }\n",
       "\n",
       "                .geemap-colab .jupyter-button {\n",
       "                    --jp-layout-color3: var(--colab-primary-surface-color, white);\n",
       "                }\n",
       "            </style>\n",
       "            "
      ],
      "text/plain": [
       "<IPython.core.display.HTML object>"
      ]
     },
     "metadata": {},
     "output_type": "display_data"
    },
    {
     "data": {
      "application/vnd.jupyter.widget-view+json": {
       "model_id": "d0dfa33c3b4748098e56700f42c8bd60",
       "version_major": 2,
       "version_minor": 0
      },
      "text/plain": [
       "Map(center=[50.09997336373202, 19.899999999999498], controls=(WidgetControl(options=['position', 'transparent_…"
      ]
     },
     "execution_count": 3,
     "metadata": {},
     "output_type": "execute_result"
    }
   ],
   "source": [
    "from geoapps.lab03.cloud_mosaic import create_cloud_free_mosaic\n",
    "import geemap\n",
    "import ee\n",
    "ee.Initialize(project='ee-skoraremotesensing')\n",
    "aoi = ee.Geometry.Rectangle([19.8, 50.0, 20.0, 50.2])\n",
    "mosaic = create_cloud_free_mosaic(aoi, '2023-06-02', '2023-07-01')\n",
    "\n",
    "mosaic"
   ]
  },
  {
   "cell_type": "code",
   "execution_count": 4,
   "id": "a432902e",
   "metadata": {},
   "outputs": [
    {
     "data": {
      "text/html": [
       "\n",
       "            <style>\n",
       "                .geemap-dark {\n",
       "                    --jp-widgets-color: white;\n",
       "                    --jp-widgets-label-color: white;\n",
       "                    --jp-ui-font-color1: white;\n",
       "                    --jp-layout-color2: #454545;\n",
       "                    background-color: #383838;\n",
       "                }\n",
       "\n",
       "                .geemap-dark .jupyter-button {\n",
       "                    --jp-layout-color3: #383838;\n",
       "                }\n",
       "\n",
       "                .geemap-colab {\n",
       "                    background-color: var(--colab-primary-surface-color, white);\n",
       "                }\n",
       "\n",
       "                .geemap-colab .jupyter-button {\n",
       "                    --jp-layout-color3: var(--colab-primary-surface-color, white);\n",
       "                }\n",
       "            </style>\n",
       "            "
      ],
      "text/plain": [
       "<IPython.core.display.HTML object>"
      ]
     },
     "metadata": {},
     "output_type": "display_data"
    },
    {
     "data": {
      "image/png": "[encoded data removed]",
      "text/plain": [
       "<Figure size 1000x500 with 1 Axes>"
      ]
     },
     "metadata": {},
     "output_type": "display_data"
    },
    {
     "data": {
      "application/vnd.jupyter.widget-view+json": {
       "model_id": "996ab3bcebeb47cc8f1a9746a9f06ef5",
       "version_major": 2,
       "version_minor": 0
      },
      "text/plain": [
       "Map(center=[50.099946524150226, 19.899999999999498], controls=(WidgetControl(options=['position', 'transparent…"
      ]
     },
     "execution_count": 4,
     "metadata": {},
     "output_type": "execute_result"
    }
   ],
   "source": [
    "import ee\n",
    "import geemap\n",
    "import pandas as pd\n",
    "import matplotlib.pyplot as plt\n",
    "\n",
    "# Inicjalizacja Earth Engine\n",
    "ee.Initialize()\n",
    "\n",
    "# AOI – prostokąt\n",
    "aoi = ee.Geometry.BBox(19.8, 50.0, 20.0, 50.2)\n",
    "\n",
    "# Bity QA60\n",
    "cloud_bit_mask = 1 << 10\n",
    "cirrus_bit_mask = 1 << 11\n",
    "\n",
    "# Funkcja do dodania masek\n",
    "def add_cloud_info(image):\n",
    "    qa = image.select('QA60')\n",
    "    cloud = qa.bitwiseAnd(cloud_bit_mask).neq(0).rename('cloud')\n",
    "    cirrus = qa.bitwiseAnd(cirrus_bit_mask).neq(0).rename('cirrus')\n",
    "    cloud_free = cloud.Not().And(cirrus.Not()).rename('cloud_free')\n",
    "    return image.addBands([cloud, cirrus, cloud_free])\n",
    "\n",
    "# Kolekcja\n",
    "collection = ee.ImageCollection('COPERNICUS/S2_SR') \\\n",
    "    .filterBounds(aoi) \\\n",
    "    .filterDate('2019-01-01', '2019-03-30') \\\n",
    "    .map(add_cloud_info)\n",
    "\n",
    "# Statystyki pokrycia chmur\n",
    "def compute_cloud_stats(image):\n",
    "    stats = image.select(['cloud', 'cirrus', 'cloud_free']) \\\n",
    "        .reduceRegion(\n",
    "            reducer=ee.Reducer.sum(),\n",
    "            geometry=aoi,\n",
    "            scale=60,\n",
    "            maxPixels=1e9\n",
    "        )\n",
    "    return image.set(stats)\n",
    "\n",
    "cloud_stats = collection.map(compute_cloud_stats)\n",
    "\n",
    "# Zbierz dane do pandas\n",
    "dates = cloud_stats.aggregate_array('system:time_start').getInfo()\n",
    "clouds = cloud_stats.aggregate_array('cloud').getInfo()\n",
    "\n",
    "df = pd.DataFrame({\n",
    "    'date': pd.to_datetime([ee.Date(t).format('YYYY-MM-dd').getInfo() for t in dates]),\n",
    "    'cloud_pixels': clouds\n",
    "})\n",
    "\n",
    "# Wykres\n",
    "plt.figure(figsize=(10, 5))\n",
    "plt.plot(df['date'], df['cloud_pixels'], marker='o', color='red')\n",
    "plt.xlabel('Data')\n",
    "plt.ylabel('Liczba pikseli z chmurą')\n",
    "plt.title('Pokrycie chmur w czasie')\n",
    "plt.grid(True)\n",
    "plt.tight_layout()\n",
    "plt.show()\n",
    "\n",
    "# 🔍 WYŚWIETLENIE RGB + MASKI\n",
    "# Najbardziej zachmurzone zdjęcie\n",
    "image = collection.sort('cloud', False).first().clip(aoi)\n",
    "\n",
    "rgb = image.select(['B4', 'B3', 'B2']).divide(10000)\n",
    "cloud_mask = image.select('cloud').updateMask(image.select('cloud'))\n",
    "\n",
    "# Mapa\n",
    "Map = geemap.Map(center=aoi.centroid(1).coordinates().getInfo()[::-1], zoom=10)\n",
    "Map.addLayer(rgb, {'min': 0, 'max': 0.3}, 'RGB Image')\n",
    "Map.addLayer(cloud_mask, {'palette': ['red']}, 'Cloud Mask Overlay')\n",
    "Map.addLayerControl()\n",
    "Map\n"
   ]
  },
  {
   "cell_type": "code",
   "execution_count": null,
   "id": "2c95a7cc",
   "metadata": {},
   "outputs": [],
   "source": [
    "import ee\n",
    "\n",
    "# Trigger the authentication flow.\n",
    "ee.Authenticate()\n",
    "\n",
    "# Initialize the library.\n",
    "ee.Initialize(project='ee-skoraremotesensing')\n",
    "\n",
    "aoi = ee.Geometry.Rectangle([19.8, 50.0, 20.0, 50.2])\n",
    "START_DATE = '2023-06-01'\n",
    "END_DATE = '2023-07-01'\n",
    "CLOUD_FILTER = 60\n",
    "CLD_PRB_THRESH = 50\n",
    "NIR_DRK_THRESH = 0.15\n",
    "CLD_PRJ_DIST = 1\n",
    "BUFFER = 50\n",
    "\n",
    "\n",
    "def get_s2_sr_cld_col(aoi, start_date, end_date):\n",
    "    # Import and filter S2 SR.\n",
    "    s2_sr_col = (ee.ImageCollection('COPERNICUS/S2_HARMONIZED')\n",
    "        .filterBounds(aoi)\n",
    "        .filterDate(start_date, end_date)\n",
    "        .filter(ee.Filter.lte('CLOUDY_PIXEL_PERCENTAGE', CLOUD_FILTER)))\n",
    "\n",
    "    # Import and filter s2cloudless.\n",
    "    s2_cloudless_col = (ee.ImageCollection('COPERNICUS/S2_CLOUD_PROBABILITY')\n",
    "        .filterBounds(aoi)\n",
    "        .filterDate(start_date, end_date))\n",
    "\n",
    "    # Join the filtered s2cloudless collection to the SR collection by the 'system:index' property.\n",
    "    return ee.ImageCollection(ee.Join.saveFirst('s2cloudless').apply(**{\n",
    "        'primary': s2_sr_col,\n",
    "        'secondary': s2_cloudless_col,\n",
    "        'condition': ee.Filter.equals(**{\n",
    "            'leftField': 'system:index',\n",
    "            'rightField': 'system:index'\n",
    "        })\n",
    "    }))\n",
    "\n",
    "s2_sr_cld_col_eval = get_s2_sr_cld_col(aoi, START_DATE, END_DATE)\n"
   ]
  }
 ],
 "metadata": {
  "kernelspec": {
   "display_name": "eo_lab",
   "language": "python",
   "name": "python3"
  },
  "language_info": {
   "codemirror_mode": {
    "name": "ipython",
    "version": 3
   },
   "file_extension": ".py",
   "mimetype": "text/x-python",
   "name": "python",
   "nbconvert_exporter": "python",
   "pygments_lexer": "ipython3",
   "version": "3.9.21"
  }
 },
 "nbformat": 4,
 "nbformat_minor": 5
}
