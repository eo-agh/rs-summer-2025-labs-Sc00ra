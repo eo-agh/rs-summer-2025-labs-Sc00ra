{
 "cells": [
  {
   "cell_type": "markdown",
   "id": "c115edb2",
   "metadata": {},
   "source": [
    "# Exercise 2: Vegetation Index Analysis\n",
    "In this exercise, you will analyze vegetation changes within one growing season in a selected agricultural region (Kujawy, Poland)."
   ]
  },
  {
   "cell_type": "markdown",
   "id": "1761c7f1",
   "metadata": {},
   "source": [
    "## Task 1: Define AOI\n",
    "Create an Area of Interest (AOI) using the coordinates provided below."
   ]
  },
  {
   "cell_type": "code",
   "execution_count": 1,
   "id": "dd5c05a9",
   "metadata": {},
   "outputs": [],
   "source": [
    "import ee\n",
    "import geemap"
   ]
  },
  {
   "cell_type": "code",
   "execution_count": 3,
   "id": "5de5583f",
   "metadata": {},
   "outputs": [
    {
     "data": {
      "text/html": [
       "\n",
       "            <style>\n",
       "                .geemap-dark {\n",
       "                    --jp-widgets-color: white;\n",
       "                    --jp-widgets-label-color: white;\n",
       "                    --jp-ui-font-color1: white;\n",
       "                    --jp-layout-color2: #454545;\n",
       "                    background-color: #383838;\n",
       "                }\n",
       "\n",
       "                .geemap-dark .jupyter-button {\n",
       "                    --jp-layout-color3: #383838;\n",
       "                }\n",
       "\n",
       "                .geemap-colab {\n",
       "                    background-color: var(--colab-primary-surface-color, white);\n",
       "                }\n",
       "\n",
       "                .geemap-colab .jupyter-button {\n",
       "                    --jp-layout-color3: var(--colab-primary-surface-color, white);\n",
       "                }\n",
       "            </style>\n",
       "            "
      ],
      "text/plain": [
       "<IPython.core.display.HTML object>"
      ]
     },
     "metadata": {},
     "output_type": "display_data"
    },
    {
     "data": {
      "text/html": [
       "<p>To authorize access needed by Earth Engine, open the following\n",
       "        URL in a web browser and follow the instructions:</p>\n",
       "        <p><a href=https://code.earthengine.google.com/client-auth?scopes=https%3A//www.googleapis.com/auth/earthengine%20https%3A//www.googleapis.com/auth/cloud-platform%20https%3A//www.googleapis.com/auth/devstorage.full_control&request_id=dmVsm-vRNrFv8PHSy7PPk6jz2so22DQckVDXxSf1ywg&tc=3CqGdjMwplfYuvTeodX_CJ-NEhPHkLYCe7zVvdOudIw&cc=Su9mxuGkG1R1-B2sdh11cLAYxRcewhzH1RfGf0MK0r4>https://code.earthengine.google.com/client-auth?scopes=https%3A//www.googleapis.com/auth/earthengine%20https%3A//www.googleapis.com/auth/cloud-platform%20https%3A//www.googleapis.com/auth/devstorage.full_control&request_id=dmVsm-vRNrFv8PHSy7PPk6jz2so22DQckVDXxSf1ywg&tc=3CqGdjMwplfYuvTeodX_CJ-NEhPHkLYCe7zVvdOudIw&cc=Su9mxuGkG1R1-B2sdh11cLAYxRcewhzH1RfGf0MK0r4</a></p>\n",
       "        <p>The authorization workflow will generate a code, which you should paste in the box below.</p>\n",
       "        "
      ],
      "text/plain": [
       "<IPython.core.display.HTML object>"
      ]
     },
     "metadata": {},
     "output_type": "display_data"
    },
    {
     "name": "stdout",
     "output_type": "stream",
     "text": [
      "\n",
      "Successfully saved authorization token.\n"
     ]
    }
   ],
   "source": [
    "ee.Authenticate()\n",
    "ee.Initialize(project='ee-skoraremotesensing')"
   ]
  },
  {
   "cell_type": "code",
   "execution_count": 4,
   "id": "9f4c98f3",
   "metadata": {},
   "outputs": [
    {
     "data": {
      "text/html": [
       "\n",
       "            <style>\n",
       "                .geemap-dark {\n",
       "                    --jp-widgets-color: white;\n",
       "                    --jp-widgets-label-color: white;\n",
       "                    --jp-ui-font-color1: white;\n",
       "                    --jp-layout-color2: #454545;\n",
       "                    background-color: #383838;\n",
       "                }\n",
       "\n",
       "                .geemap-dark .jupyter-button {\n",
       "                    --jp-layout-color3: #383838;\n",
       "                }\n",
       "\n",
       "                .geemap-colab {\n",
       "                    background-color: var(--colab-primary-surface-color, white);\n",
       "                }\n",
       "\n",
       "                .geemap-colab .jupyter-button {\n",
       "                    --jp-layout-color3: var(--colab-primary-surface-color, white);\n",
       "                }\n",
       "            </style>\n",
       "            "
      ],
      "text/plain": [
       "<IPython.core.display.HTML object>"
      ]
     },
     "metadata": {},
     "output_type": "display_data"
    }
   ],
   "source": [
    "# TODO: Define AOI\n",
    "aoi = ee.Geometry.Rectangle([20.244635, 50.009302, 20.133393, 49.947809])\n",
    "\n",
    "\n",
    "\n",
    "\n",
    "\n",
    "\n",
    "\n"
   ]
  },
  {
   "cell_type": "markdown",
   "id": "44ec57e7",
   "metadata": {},
   "source": [
    "## Task 2: Retrieve Sentinel-2 Imagery\n",
    "Retrieve two Sentinel-2 satellite images from the following dates: 2023-04-01 and 2023-07-01."
   ]
  },
  {
   "cell_type": "code",
   "execution_count": 6,
   "id": "cd32529c",
   "metadata": {},
   "outputs": [
    {
     "data": {
      "text/html": [
       "\n",
       "            <style>\n",
       "                .geemap-dark {\n",
       "                    --jp-widgets-color: white;\n",
       "                    --jp-widgets-label-color: white;\n",
       "                    --jp-ui-font-color1: white;\n",
       "                    --jp-layout-color2: #454545;\n",
       "                    background-color: #383838;\n",
       "                }\n",
       "\n",
       "                .geemap-dark .jupyter-button {\n",
       "                    --jp-layout-color3: #383838;\n",
       "                }\n",
       "\n",
       "                .geemap-colab {\n",
       "                    background-color: var(--colab-primary-surface-color, white);\n",
       "                }\n",
       "\n",
       "                .geemap-colab .jupyter-button {\n",
       "                    --jp-layout-color3: var(--colab-primary-surface-color, white);\n",
       "                }\n",
       "            </style>\n",
       "            "
      ],
      "text/plain": [
       "<IPython.core.display.HTML object>"
      ]
     },
     "metadata": {},
     "output_type": "display_data"
    },
    {
     "name": "stdout",
     "output_type": "stream",
     "text": [
      "ee.Image({\n",
      "  \"functionInvocationValue\": {\n",
      "    \"functionName\": \"Image.clip\",\n",
      "    \"arguments\": {\n",
      "      \"geometry\": {\n",
      "        \"functionInvocationValue\": {\n",
      "          \"functionName\": \"GeometryConstructors.Polygon\",\n",
      "          \"arguments\": {\n",
      "            \"coordinates\": {\n",
      "              \"constantValue\": [\n",
      "                [\n",
      "                  [\n",
      "                    20.244635,\n",
      "                    49.947809\n",
      "                  ],\n",
      "                  [\n",
      "                    20.244635,\n",
      "                    50.009302\n",
      "                  ],\n",
      "                  [\n",
      "                    20.133393,\n",
      "                    50.009302\n",
      "                  ],\n",
      "                  [\n",
      "                    20.133393,\n",
      "                    49.947809\n",
      "                  ]\n",
      "                ]\n",
      "              ]\n",
      "            },\n",
      "            \"evenOdd\": {\n",
      "              \"constantValue\": true\n",
      "            }\n",
      "          }\n",
      "        }\n",
      "      },\n",
      "      \"input\": {\n",
      "        \"functionInvocationValue\": {\n",
      "          \"functionName\": \"Collection.first\",\n",
      "          \"arguments\": {\n",
      "            \"collection\": {\n",
      "              \"functionInvocationValue\": {\n",
      "                \"functionName\": \"Collection.limit\",\n",
      "                \"arguments\": {\n",
      "                  \"collection\": {\n",
      "                    \"functionInvocationValue\": {\n",
      "                      \"functionName\": \"Collection.filter\",\n",
      "                      \"arguments\": {\n",
      "                        \"collection\": {\n",
      "                          \"functionInvocationValue\": {\n",
      "                            \"functionName\": \"Collection.filter\",\n",
      "                            \"arguments\": {\n",
      "                              \"collection\": {\n",
      "                                \"functionInvocationValue\": {\n",
      "                                  \"functionName\": \"ImageCollection.load\",\n",
      "                                  \"arguments\": {\n",
      "                                    \"id\": {\n",
      "                                      \"constantValue\": \"COPERNICUS/S2_HARMONIZED\"\n",
      "                                    }\n",
      "                                  }\n",
      "                                }\n",
      "                              },\n",
      "                              \"filter\": {\n",
      "                                \"functionInvocationValue\": {\n",
      "                                  \"functionName\": \"Filter.intersects\",\n",
      "                                  \"arguments\": {\n",
      "                                    \"leftField\": {\n",
      "                                      \"constantValue\": \".all\"\n",
      "                                    },\n",
      "                                    \"rightValue\": {\n",
      "                                      \"functionInvocationValue\": {\n",
      "                                        \"functionName\": \"Feature\",\n",
      "                                        \"arguments\": {\n",
      "                                          \"geometry\": {\n",
      "                                            \"functionInvocationValue\": {\n",
      "                                              \"functionName\": \"GeometryConstructors.Polygon\",\n",
      "                                              \"arguments\": {\n",
      "                                                \"coordinates\": {\n",
      "                                                  \"constantValue\": [\n",
      "                                                    [\n",
      "                                                      [\n",
      "                                                        20.244635,\n",
      "                                                        49.947809\n",
      "                                                      ],\n",
      "                                                      [\n",
      "                                                        20.244635,\n",
      "                                                        50.009302\n",
      "                                                      ],\n",
      "                                                      [\n",
      "                                                        20.133393,\n",
      "                                                        50.009302\n",
      "                                                      ],\n",
      "                                                      [\n",
      "                                                        20.133393,\n",
      "                                                        49.947809\n",
      "                                                      ]\n",
      "                                                    ]\n",
      "                                                  ]\n",
      "                                                },\n",
      "                                                \"evenOdd\": {\n",
      "                                                  \"constantValue\": true\n",
      "                                                }\n",
      "                                              }\n",
      "                                            }\n",
      "                                          }\n",
      "                                        }\n",
      "                                      }\n",
      "                                    }\n",
      "                                  }\n",
      "                                }\n",
      "                              }\n",
      "                            }\n",
      "                          }\n",
      "                        },\n",
      "                        \"filter\": {\n",
      "                          \"functionInvocationValue\": {\n",
      "                            \"functionName\": \"Filter.dateRangeContains\",\n",
      "                            \"arguments\": {\n",
      "                              \"leftValue\": {\n",
      "                                \"functionInvocationValue\": {\n",
      "                                  \"functionName\": \"DateRange\",\n",
      "                                  \"arguments\": {\n",
      "                                    \"end\": {\n",
      "                                      \"constantValue\": \"2023-04-30\"\n",
      "                                    },\n",
      "                                    \"start\": {\n",
      "                                      \"constantValue\": \"2023-04-01\"\n",
      "                                    }\n",
      "                                  }\n",
      "                                }\n",
      "                              },\n",
      "                              \"rightField\": {\n",
      "                                \"constantValue\": \"system:time_start\"\n",
      "                              }\n",
      "                            }\n",
      "                          }\n",
      "                        }\n",
      "                      }\n",
      "                    }\n",
      "                  },\n",
      "                  \"key\": {\n",
      "                    \"constantValue\": \"CLOUDY_PIXEL_PERCENTAGE\"\n",
      "                  }\n",
      "                }\n",
      "              }\n",
      "            }\n",
      "          }\n",
      "        }\n",
      "      }\n",
      "    }\n",
      "  }\n",
      "}) 12\n"
     ]
    }
   ],
   "source": [
    "# TODO: Retrieve Sentinel-2 images for the selected dates.\n",
    "sentinel2_april = ee.ImageCollection('COPERNICUS/S2_HARMONIZED').filterBounds(aoi).filterDate('2023-04-01','2023-04-30')\n",
    "sentinel2_july = ee.ImageCollection('COPERNICUS/S2_HARMONIZED').filterBounds(aoi).filterDate('2023-07-01','2023-07-31')\n",
    "size_april = sentinel2_april.size().getInfo()\n",
    "size_july =  sentinel2_july.size().getInfo()\n",
    "\n",
    "\n",
    "image_april = sentinel2_april.sort(\"CLOUDY_PIXEL_PERCENTAGE\").first()\n",
    "image_july = sentinel2_july.sort(\"CLOUDY_PIXEL_PERCENTAGE\").first()\n",
    "image_july = image_july.clip(aoi)\n",
    "image_april = image_april.clip(aoi)\n",
    "\n",
    "\n",
    "print(image_april,size_july)\n",
    "\n",
    "# true_color_params = {'bands': ['B4', 'B3', 'B2'], 'min': 0, 'max': 3000}\n",
    "# # Map= geemap.Map()\n",
    "# # Map.addLayer(image_april,true_color_params,\"First image\")\n",
    "# # Map.centerObject(image_april,8)\n",
    "# # Map\n",
    "# Map2= geemap.Map()\n",
    "# Map2.addLayer(image_july,true_color_params,\"First image\")\n",
    "# Map2.centerObject(image_july,8)\n",
    "# Map2"
   ]
  },
  {
   "cell_type": "markdown",
   "id": "e0d5a72c",
   "metadata": {},
   "source": [
    "## Task 3: Calculate NDVI\n",
    "Calculate the Normalized Difference Vegetation Index (NDVI) for both images."
   ]
  },
  {
   "cell_type": "code",
   "execution_count": 70,
   "id": "5454dd10",
   "metadata": {},
   "outputs": [
    {
     "data": {
      "text/html": [
       "\n",
       "            <style>\n",
       "                .geemap-dark {\n",
       "                    --jp-widgets-color: white;\n",
       "                    --jp-widgets-label-color: white;\n",
       "                    --jp-ui-font-color1: white;\n",
       "                    --jp-layout-color2: #454545;\n",
       "                    background-color: #383838;\n",
       "                }\n",
       "\n",
       "                .geemap-dark .jupyter-button {\n",
       "                    --jp-layout-color3: #383838;\n",
       "                }\n",
       "\n",
       "                .geemap-colab {\n",
       "                    background-color: var(--colab-primary-surface-color, white);\n",
       "                }\n",
       "\n",
       "                .geemap-colab .jupyter-button {\n",
       "                    --jp-layout-color3: var(--colab-primary-surface-color, white);\n",
       "                }\n",
       "            </style>\n",
       "            "
      ],
      "text/plain": [
       "<IPython.core.display.HTML object>"
      ]
     },
     "metadata": {},
     "output_type": "display_data"
    }
   ],
   "source": [
    "# TODO: Calculate NDVI for both images (Choose the appropriate S-2 bands).\n",
    "NDVI_april = image_april.normalizedDifference(['B8', 'B4'])\n",
    "NDVI_july = image_july.normalizedDifference(['B8', 'B4'])\n",
    "NDVI_diff = NDVI_july.subtract(NDVI_april)\n"
   ]
  },
  {
   "cell_type": "markdown",
   "id": "92023a75",
   "metadata": {},
   "source": [
    "## Task 4: Compare NDVI\n",
    "Display both NDVI indices on the map and calculate and visualize their difference."
   ]
  },
  {
   "cell_type": "code",
   "execution_count": 71,
   "id": "55c1b865",
   "metadata": {},
   "outputs": [
    {
     "data": {
      "text/html": [
       "\n",
       "            <style>\n",
       "                .geemap-dark {\n",
       "                    --jp-widgets-color: white;\n",
       "                    --jp-widgets-label-color: white;\n",
       "                    --jp-ui-font-color1: white;\n",
       "                    --jp-layout-color2: #454545;\n",
       "                    background-color: #383838;\n",
       "                }\n",
       "\n",
       "                .geemap-dark .jupyter-button {\n",
       "                    --jp-layout-color3: #383838;\n",
       "                }\n",
       "\n",
       "                .geemap-colab {\n",
       "                    background-color: var(--colab-primary-surface-color, white);\n",
       "                }\n",
       "\n",
       "                .geemap-colab .jupyter-button {\n",
       "                    --jp-layout-color3: var(--colab-primary-surface-color, white);\n",
       "                }\n",
       "            </style>\n",
       "            "
      ],
      "text/plain": [
       "<IPython.core.display.HTML object>"
      ]
     },
     "metadata": {},
     "output_type": "display_data"
    },
    {
     "data": {
      "application/vnd.jupyter.widget-view+json": {
       "model_id": "6af9d29e352a48a9a62ee92a6ea73a1b",
       "version_major": 2,
       "version_minor": 0
      },
      "text/plain": [
       "Map(center=[49.978562246023856, 20.189013999996966], controls=(WidgetControl(options=['position', 'transparent…"
      ]
     },
     "execution_count": 71,
     "metadata": {},
     "output_type": "execute_result"
    }
   ],
   "source": [
    "ndvi_vis = {\n",
    "    'min': -1,\n",
    "    'max': 1,\n",
    "    'palette': ['blue', 'white', 'green']\n",
    "}\n",
    "# Add NDVI layer to the map\n",
    "Map3= geemap.Map()\n",
    "Map3.addLayer(NDVI_april, ndvi_vis, 'NDVI - April')\n",
    "Map3.addLayer(NDVI_july, ndvi_vis, 'NDVI - July')\n",
    "Map3.addLayer(NDVI_diff, ndvi_vis, 'NDVI - Difference')\n",
    "# Center the map if needed (optional)\n",
    "Map3.centerObject(NDVI_april, 8)\n",
    "\n",
    "# Display the map\n",
    "Map3\n"
   ]
  },
  {
   "cell_type": "markdown",
   "id": "120a0f31",
   "metadata": {},
   "source": []
  },
  {
   "cell_type": "markdown",
   "id": "22cab30e",
   "metadata": {},
   "source": [
    "## Task 5: Interpret the Results\n",
    "Briefly describe the meaning of the observed NDVI changes within the analyzed period."
   ]
  },
  {
   "cell_type": "code",
   "execution_count": null,
   "id": "c5d0d661",
   "metadata": {},
   "outputs": [
    {
     "data": {
      "text/html": [
       "\n",
       "            <style>\n",
       "                .geemap-dark {\n",
       "                    --jp-widgets-color: white;\n",
       "                    --jp-widgets-label-color: white;\n",
       "                    --jp-ui-font-color1: white;\n",
       "                    --jp-layout-color2: #454545;\n",
       "                    background-color: #383838;\n",
       "                }\n",
       "\n",
       "                .geemap-dark .jupyter-button {\n",
       "                    --jp-layout-color3: #383838;\n",
       "                }\n",
       "\n",
       "                .geemap-colab {\n",
       "                    background-color: var(--colab-primary-surface-color, white);\n",
       "                }\n",
       "\n",
       "                .geemap-colab .jupyter-button {\n",
       "                    --jp-layout-color3: var(--colab-primary-surface-color, white);\n",
       "                }\n",
       "            </style>\n",
       "            "
      ],
      "text/plain": [
       "<IPython.core.display.HTML object>"
      ]
     },
     "metadata": {},
     "output_type": "display_data"
    }
   ],
   "source": [
    "# TODO: Provide your interpretation here in a Markdown cell."
   ]
  },
  {
   "cell_type": "markdown",
   "id": "210b49a0",
   "metadata": {},
   "source": [
    "In the Maps shown abowe we can see some changes in the calculated NDVI between apri and july. The region mosly conist of farmland so the difference can corelate to the gathering of crops. Also the part with Puszcza Niepołomice shows little difference to NDVI."
   ]
  },
  {
   "cell_type": "markdown",
   "id": "c968b686",
   "metadata": {},
   "source": [
    "## Task 6: False Color Composite for Vegetation Condition Assessment\n",
    "Add false-color composites (NIR, RED, GREEN) for both dates to the map for visual assessment of vegetation condition."
   ]
  },
  {
   "cell_type": "code",
   "execution_count": 72,
   "id": "f6c53f4d",
   "metadata": {},
   "outputs": [
    {
     "data": {
      "text/html": [
       "\n",
       "            <style>\n",
       "                .geemap-dark {\n",
       "                    --jp-widgets-color: white;\n",
       "                    --jp-widgets-label-color: white;\n",
       "                    --jp-ui-font-color1: white;\n",
       "                    --jp-layout-color2: #454545;\n",
       "                    background-color: #383838;\n",
       "                }\n",
       "\n",
       "                .geemap-dark .jupyter-button {\n",
       "                    --jp-layout-color3: #383838;\n",
       "                }\n",
       "\n",
       "                .geemap-colab {\n",
       "                    background-color: var(--colab-primary-surface-color, white);\n",
       "                }\n",
       "\n",
       "                .geemap-colab .jupyter-button {\n",
       "                    --jp-layout-color3: var(--colab-primary-surface-color, white);\n",
       "                }\n",
       "            </style>\n",
       "            "
      ],
      "text/plain": [
       "<IPython.core.display.HTML object>"
      ]
     },
     "metadata": {},
     "output_type": "display_data"
    },
    {
     "data": {
      "application/vnd.jupyter.widget-view+json": {
       "model_id": "6af9d29e352a48a9a62ee92a6ea73a1b",
       "version_major": 2,
       "version_minor": 0
      },
      "text/plain": [
       "Map(bottom=356044.0, center=[49.978562246023856, 20.189013999996966], controls=(WidgetControl(options=['positi…"
      ]
     },
     "execution_count": 72,
     "metadata": {},
     "output_type": "execute_result"
    }
   ],
   "source": [
    "# TODO: Create a false-color composite (NIR, RED, GREEN) and add it to the map\n",
    "vegetation_viz = {'bands': ['B8', 'B4', 'B3'], 'min': 0, 'max': 4000}\n",
    "# Add Sentinel-2 images for both dates to the map using this composite.\n",
    "Map3.addLayer(NDVI_april, ndvi_vis, 'NDVI - April')\n",
    "Map3.addLayer(NDVI_july, ndvi_vis, 'NDVI - July')\n",
    "Map3.addLayer(NDVI_diff, ndvi_vis, 'NDVI - Difference')\n",
    "Map3.addLayer(image_april, vegetation_viz, 'Veg - April')\n",
    "Map3.addLayer(image_july, vegetation_viz, 'Veg - July')\n",
    "# Center the map if needed (optional)\n",
    "Map3.centerObject(NDVI_april, 8)\n",
    "\n",
    "# Display the map\n",
    "Map3"
   ]
  }
 ],
 "metadata": {
  "kernelspec": {
   "display_name": "eo_lab",
   "language": "python",
   "name": "python3"
  },
  "language_info": {
   "codemirror_mode": {
    "name": "ipython",
    "version": 3
   },
   "file_extension": ".py",
   "mimetype": "text/x-python",
   "name": "python",
   "nbconvert_exporter": "python",
   "pygments_lexer": "ipython3",
   "version": "3.9.21"
  }
 },
 "nbformat": 4,
 "nbformat_minor": 5
}
