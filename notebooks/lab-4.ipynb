{
 "cells": [
  {
   "cell_type": "markdown",
   "id": "d3ac2b14",
   "metadata": {},
   "source": [
    "# Lab 4: Urban Heat Island Detection using Thermal Satellite Imagery"
   ]
  },
  {
   "cell_type": "markdown",
   "id": "94a259ca",
   "metadata": {},
   "source": [
    "## Goal\n",
    "In this exercise, you will:\n",
    "1. Select and compare two thermal satellite images from Kraków (or another city that has recently undergone intensive, thoughtless concrete development) – one from **2013** and one from **2024**.\n",
    "2. Each image must be acquired on a **hot summer day** (T > 27°C based on IMGW meteorological data).\n",
    "3. Images must have **low cloud cover** (< 20%).\n",
    "4. Visualize thermal data and analyze surface temperature differences (Urban Heat Island effect)."
   ]
  },
  {
   "cell_type": "markdown",
   "id": "cfa7c6b9",
   "metadata": {},
   "source": [
    "## Task 1: Area of Interest (AOI)\n",
    "- Define an AOI over the Reduta Street area in Kraków.\n",
    "- Use `ee.Geometry.Polygon` or `ee.Geometry.Rectangle`."
   ]
  },
  {
   "cell_type": "code",
   "execution_count": 32,
   "id": "8258af66",
   "metadata": {},
   "outputs": [
    {
     "data": {
      "text/html": [
       "\n",
       "            <style>\n",
       "                .geemap-dark {\n",
       "                    --jp-widgets-color: white;\n",
       "                    --jp-widgets-label-color: white;\n",
       "                    --jp-ui-font-color1: white;\n",
       "                    --jp-layout-color2: #454545;\n",
       "                    background-color: #383838;\n",
       "                }\n",
       "\n",
       "                .geemap-dark .jupyter-button {\n",
       "                    --jp-layout-color3: #383838;\n",
       "                }\n",
       "\n",
       "                .geemap-colab {\n",
       "                    background-color: var(--colab-primary-surface-color, white);\n",
       "                }\n",
       "\n",
       "                .geemap-colab .jupyter-button {\n",
       "                    --jp-layout-color3: var(--colab-primary-surface-color, white);\n",
       "                }\n",
       "            </style>\n",
       "            "
      ],
      "text/plain": [
       "<IPython.core.display.HTML object>"
      ]
     },
     "metadata": {},
     "output_type": "display_data"
    },
    {
     "name": "stdout",
     "output_type": "stream",
     "text": [
      "{'type': 'Polygon', 'coordinates': [[[19.959294, 50.086612], [19.992467, 50.086612], [19.992467, 50.103602], [19.959294, 50.103602], [19.959294, 50.086612]]]}\n"
     ]
    }
   ],
   "source": [
    "import ee\n",
    "\n",
    "ee.Authenticate()\n",
    "ee.Initialize(project='ee-skoraremotesensing')\n",
    "\n",
    "aoi = ee.Geometry.Rectangle([19.959294, 50.086612, 19.992467, 50.103602])  # Example coordinates for Reduta Street area\n",
    "# 50.103602, 19.992467\n",
    "#50.086612, 19.959294\n",
    "\n",
    "\n",
    "\n",
    "\n",
    "\n",
    "print(aoi.getInfo())\n"
   ]
  },
  {
   "cell_type": "markdown",
   "id": "7817c68e",
   "metadata": {},
   "source": [
    "## Task 2: Download and Analyze IMGW Meteorological Data\n",
    "- Visit: [IMGW Archive](https://danepubliczne.imgw.pl/data/dane_pomiarowo_obserwacyjne/)\n",
    "- Navigate to:\n",
    "  - `dane_meteorologiczne/dobowe/synop/2013/`\n",
    "  - `dane_meteorologiczne/dobowe/synop/2024/`\n",
    "- Download `s_d_tmax.csv` for both years.\n",
    "- Filter the rows for **station ID 12566 (e.g. Kraków-Balice)**.\n",
    "- Identify days in **July or August** with **TMAX > 27°C**."
   ]
  },
  {
   "cell_type": "code",
   "execution_count": 2,
   "id": "28cedb3c",
   "metadata": {},
   "outputs": [
    {
     "name": "stdout",
     "output_type": "stream",
     "text": [
      "Collecting fsspec\n",
      "  Downloading fsspec-2025.3.2-py3-none-any.whl.metadata (11 kB)\n",
      "Downloading fsspec-2025.3.2-py3-none-any.whl (194 kB)\n",
      "Installing collected packages: fsspec\n",
      "Successfully installed fsspec-2025.3.2\n",
      "Note: you may need to restart the kernel to use updated packages.\n"
     ]
    }
   ],
   "source": [
    "%pip install fsspec"
   ]
  },
  {
   "cell_type": "code",
   "execution_count": 35,
   "id": "a35b1e22",
   "metadata": {},
   "outputs": [
    {
     "data": {
      "text/html": [
       "\n",
       "            <style>\n",
       "                .geemap-dark {\n",
       "                    --jp-widgets-color: white;\n",
       "                    --jp-widgets-label-color: white;\n",
       "                    --jp-ui-font-color1: white;\n",
       "                    --jp-layout-color2: #454545;\n",
       "                    background-color: #383838;\n",
       "                }\n",
       "\n",
       "                .geemap-dark .jupyter-button {\n",
       "                    --jp-layout-color3: #383838;\n",
       "                }\n",
       "\n",
       "                .geemap-colab {\n",
       "                    background-color: var(--colab-primary-surface-color, white);\n",
       "                }\n",
       "\n",
       "                .geemap-colab .jupyter-button {\n",
       "                    --jp-layout-color3: var(--colab-primary-surface-color, white);\n",
       "                }\n",
       "            </style>\n",
       "            "
      ],
      "text/plain": [
       "<IPython.core.display.HTML object>"
      ]
     },
     "metadata": {},
     "output_type": "display_data"
    },
    {
     "name": "stdout",
     "output_type": "stream",
     "text": [
      "\n",
      "2013: 1 days with TMAX > 27°C\n",
      "           Date  TMAX\n",
      "2177 2013-08-08  27.7\n",
      "\n",
      "2024: 23 days with TMAX > 27°C\n",
      "          Date  TMAX\n",
      "652 2024-08-02  27.6\n",
      "657 2024-08-07  27.8\n",
      "658 2024-08-08  28.5\n",
      "660 2024-08-10  28.2\n",
      "661 2024-08-11  28.8\n",
      "662 2024-08-12  28.0\n",
      "663 2024-08-13  28.0\n",
      "664 2024-08-14  29.2\n",
      "665 2024-08-15  31.9\n",
      "666 2024-08-16  32.3\n",
      "667 2024-08-17  31.3\n",
      "668 2024-08-18  29.8\n",
      "669 2024-08-19  28.9\n",
      "671 2024-08-21  28.0\n",
      "673 2024-08-23  28.3\n",
      "674 2024-08-24  33.0\n",
      "675 2024-08-25  33.6\n",
      "676 2024-08-26  27.4\n",
      "677 2024-08-27  27.2\n",
      "678 2024-08-28  30.5\n",
      "679 2024-08-29  31.7\n",
      "680 2024-08-30  32.4\n",
      "681 2024-08-31  30.0\n"
     ]
    },
    {
     "data": {
      "image/png": "[encoded data removed]",
      "text/plain": [
       "<Figure size 600x400 with 1 Axes>"
      ]
     },
     "metadata": {},
     "output_type": "display_data"
    }
   ],
   "source": [
    "import pandas as pd\n",
    "import matplotlib.pyplot as plt\n",
    "\n",
    "# File paths\n",
    "file_2013 = \"D://space_technologies//magnifying_glass//2013_08_k//k_d_t_08_2013.csv\"\n",
    "file_2024 = \"D://space_technologies//magnifying_glass//2024_08_k//k_d_08_2024.csv\"\n",
    "\n",
    "KRAKOW_ID = 250190390\n",
    "\n",
    "\n",
    "def load_and_filter(file_path):\n",
    "    df = pd.read_csv(file_path, header=None, encoding='latin1', sep=',')\n",
    "    filtered = df[\n",
    "        (df[0] == KRAKOW_ID) &\n",
    "        (df[5] > 27)\n",
    "    ]\n",
    "    filtered = filtered[[2, 3, 4, 5]]\n",
    "    filtered.columns = ['Year', 'Month', 'Day', 'TMAX']\n",
    "    filtered['Date'] = pd.to_datetime(filtered[['Year', 'Month', 'Day']])\n",
    "    return filtered\n",
    "\n",
    "\n",
    "hot_2013 = load_and_filter(file_2013)\n",
    "hot_2024 = load_and_filter(file_2024)\n",
    "\n",
    "print(f\"\\n2013: {len(hot_2013)} days with TMAX > 27°C\")\n",
    "print(hot_2013[['Date', 'TMAX']])\n",
    "\n",
    "print(f\"\\n2024: {len(hot_2024)} days with TMAX > 27°C\")\n",
    "print(hot_2024[['Date', 'TMAX']])\n",
    "\n",
    "plt.figure(figsize=(6, 4))\n",
    "plt.bar(['2013', '2024'], [len(hot_2013), len(hot_2024)])\n",
    "plt.ylabel('Days with TMAX > 27°C')\n",
    "plt.title('Hot Days in Kraków (August)')\n",
    "plt.grid(axis='y', linestyle='--', alpha=0.7)\n",
    "plt.tight_layout()\n",
    "plt.show()"
   ]
  },
  {
   "cell_type": "markdown",
   "id": "c7f064e5",
   "metadata": {},
   "source": [
    "## Task 3: Select Landsat 8 Images Matching These Dates\n",
    "- In Earth Engine, use `LANDSAT/LC08/C02/T1_L2` collection.\n",
    "- Apply filters:\n",
    "  - `.filterBounds(aoi)`\n",
    "  - `.filterDate()` for the matching day\n",
    "  - `.filterMetadata('CLOUD_COVER', 'less_than', 20)`\n",
    "- Try to find **one image from 2013** and **one image from 2024** that match your hot days list."
   ]
  },
  {
   "cell_type": "code",
   "execution_count": 48,
   "id": "45e7cc45",
   "metadata": {},
   "outputs": [
    {
     "data": {
      "text/html": [
       "\n",
       "            <style>\n",
       "                .geemap-dark {\n",
       "                    --jp-widgets-color: white;\n",
       "                    --jp-widgets-label-color: white;\n",
       "                    --jp-ui-font-color1: white;\n",
       "                    --jp-layout-color2: #454545;\n",
       "                    background-color: #383838;\n",
       "                }\n",
       "\n",
       "                .geemap-dark .jupyter-button {\n",
       "                    --jp-layout-color3: #383838;\n",
       "                }\n",
       "\n",
       "                .geemap-colab {\n",
       "                    background-color: var(--colab-primary-surface-color, white);\n",
       "                }\n",
       "\n",
       "                .geemap-colab .jupyter-button {\n",
       "                    --jp-layout-color3: var(--colab-primary-surface-color, white);\n",
       "                }\n",
       "            </style>\n",
       "            "
      ],
      "text/plain": [
       "<IPython.core.display.HTML object>"
      ]
     },
     "metadata": {},
     "output_type": "display_data"
    },
    {
     "name": "stdout",
     "output_type": "stream",
     "text": [
      "{'type': 'Image', 'bands': [{'id': 'SR_B1', 'data_type': {'type': 'PixelType', 'precision': 'int', 'min': 0, 'max': 65535}, 'dimensions': [81, 65], 'origin': [4055, 4668], 'crs': 'EPSG:32634', 'crs_transform': [30, 0, 303885, 0, -30, 5690715]}, {'id': 'SR_B2', 'data_type': {'type': 'PixelType', 'precision': 'int', 'min': 0, 'max': 65535}, 'dimensions': [81, 65], 'origin': [4055, 4668], 'crs': 'EPSG:32634', 'crs_transform': [30, 0, 303885, 0, -30, 5690715]}, {'id': 'SR_B3', 'data_type': {'type': 'PixelType', 'precision': 'int', 'min': 0, 'max': 65535}, 'dimensions': [81, 65], 'origin': [4055, 4668], 'crs': 'EPSG:32634', 'crs_transform': [30, 0, 303885, 0, -30, 5690715]}, {'id': 'SR_B4', 'data_type': {'type': 'PixelType', 'precision': 'int', 'min': 0, 'max': 65535}, 'dimensions': [81, 65], 'origin': [4055, 4668], 'crs': 'EPSG:32634', 'crs_transform': [30, 0, 303885, 0, -30, 5690715]}, {'id': 'SR_B5', 'data_type': {'type': 'PixelType', 'precision': 'int', 'min': 0, 'max': 65535}, 'dimensions': [81, 65], 'origin': [4055, 4668], 'crs': 'EPSG:32634', 'crs_transform': [30, 0, 303885, 0, -30, 5690715]}, {'id': 'SR_B6', 'data_type': {'type': 'PixelType', 'precision': 'int', 'min': 0, 'max': 65535}, 'dimensions': [81, 65], 'origin': [4055, 4668], 'crs': 'EPSG:32634', 'crs_transform': [30, 0, 303885, 0, -30, 5690715]}, {'id': 'SR_B7', 'data_type': {'type': 'PixelType', 'precision': 'int', 'min': 0, 'max': 65535}, 'dimensions': [81, 65], 'origin': [4055, 4668], 'crs': 'EPSG:32634', 'crs_transform': [30, 0, 303885, 0, -30, 5690715]}, {'id': 'SR_QA_AEROSOL', 'data_type': {'type': 'PixelType', 'precision': 'int', 'min': 0, 'max': 255}, 'dimensions': [81, 65], 'origin': [4055, 4668], 'crs': 'EPSG:32634', 'crs_transform': [30, 0, 303885, 0, -30, 5690715]}, {'id': 'ST_B10', 'data_type': {'type': 'PixelType', 'precision': 'int', 'min': 0, 'max': 65535}, 'dimensions': [81, 65], 'origin': [4055, 4668], 'crs': 'EPSG:32634', 'crs_transform': [30, 0, 303885, 0, -30, 5690715]}, {'id': 'ST_ATRAN', 'data_type': {'type': 'PixelType', 'precision': 'int', 'min': -32768, 'max': 32767}, 'dimensions': [81, 65], 'origin': [4055, 4668], 'crs': 'EPSG:32634', 'crs_transform': [30, 0, 303885, 0, -30, 5690715]}, {'id': 'ST_CDIST', 'data_type': {'type': 'PixelType', 'precision': 'int', 'min': -32768, 'max': 32767}, 'dimensions': [81, 65], 'origin': [4055, 4668], 'crs': 'EPSG:32634', 'crs_transform': [30, 0, 303885, 0, -30, 5690715]}, {'id': 'ST_DRAD', 'data_type': {'type': 'PixelType', 'precision': 'int', 'min': -32768, 'max': 32767}, 'dimensions': [81, 65], 'origin': [4055, 4668], 'crs': 'EPSG:32634', 'crs_transform': [30, 0, 303885, 0, -30, 5690715]}, {'id': 'ST_EMIS', 'data_type': {'type': 'PixelType', 'precision': 'int', 'min': -32768, 'max': 32767}, 'dimensions': [81, 65], 'origin': [4055, 4668], 'crs': 'EPSG:32634', 'crs_transform': [30, 0, 303885, 0, -30, 5690715]}, {'id': 'ST_EMSD', 'data_type': {'type': 'PixelType', 'precision': 'int', 'min': -32768, 'max': 32767}, 'dimensions': [81, 65], 'origin': [4055, 4668], 'crs': 'EPSG:32634', 'crs_transform': [30, 0, 303885, 0, -30, 5690715]}, {'id': 'ST_QA', 'data_type': {'type': 'PixelType', 'precision': 'int', 'min': -32768, 'max': 32767}, 'dimensions': [81, 65], 'origin': [4055, 4668], 'crs': 'EPSG:32634', 'crs_transform': [30, 0, 303885, 0, -30, 5690715]}, {'id': 'ST_TRAD', 'data_type': {'type': 'PixelType', 'precision': 'int', 'min': -32768, 'max': 32767}, 'dimensions': [81, 65], 'origin': [4055, 4668], 'crs': 'EPSG:32634', 'crs_transform': [30, 0, 303885, 0, -30, 5690715]}, {'id': 'ST_URAD', 'data_type': {'type': 'PixelType', 'precision': 'int', 'min': -32768, 'max': 32767}, 'dimensions': [81, 65], 'origin': [4055, 4668], 'crs': 'EPSG:32634', 'crs_transform': [30, 0, 303885, 0, -30, 5690715]}, {'id': 'QA_PIXEL', 'data_type': {'type': 'PixelType', 'precision': 'int', 'min': 0, 'max': 65535}, 'dimensions': [81, 65], 'origin': [4055, 4668], 'crs': 'EPSG:32634', 'crs_transform': [30, 0, 303885, 0, -30, 5690715]}, {'id': 'QA_RADSAT', 'data_type': {'type': 'PixelType', 'precision': 'int', 'min': 0, 'max': 65535}, 'dimensions': [81, 65], 'origin': [4055, 4668], 'crs': 'EPSG:32634', 'crs_transform': [30, 0, 303885, 0, -30, 5690715]}], 'version': 1629937588631035, 'id': 'LANDSAT/LC08/C02/T1_L2/LC08_188025_20130807', 'properties': {'system:footprint': {'type': 'Polygon', 'coordinates': [[[19.959293999999996, 50.086612], [19.992467, 50.086612], [19.992467, 50.103601999999995], [19.959294, 50.103602], [19.959293999999996, 50.086612]]]}, 'DATA_SOURCE_ELEVATION': 'GLS2000', 'WRS_TYPE': 2, 'REFLECTANCE_ADD_BAND_1': -0.2, 'REFLECTANCE_ADD_BAND_2': -0.2, 'DATUM': 'WGS84', 'REFLECTANCE_ADD_BAND_3': -0.2, 'REFLECTANCE_ADD_BAND_4': -0.2, 'REFLECTANCE_ADD_BAND_5': -0.2, 'REFLECTANCE_ADD_BAND_6': -0.2, 'REFLECTANCE_ADD_BAND_7': -0.2, 'REFLECTIVE_SAMPLES': 7961, 'GROUND_CONTROL_POINTS_VERSION': 5, 'SUN_AZIMUTH': 150.58120427, 'DATA_SOURCE_TIRS_STRAY_LIGHT_CORRECTION': 'TIRS', 'UTM_ZONE': 34, 'DATE_ACQUIRED': '2013-08-07', 'ELLIPSOID': 'WGS84', 'system:time_end': 1375868067723, 'DATA_SOURCE_PRESSURE': 'Calculated', 'LANDSAT_PRODUCT_ID': 'LC08_L2SP_188025_20130807_20200912_02_T1', 'STATION_ID': 'LGN', 'TEMPERATURE_ADD_BAND_ST_B10': 149, 'DATA_SOURCE_REANALYSIS': 'GEOS-5 FP-IT', 'REFLECTANCE_MULT_BAND_7': 2.75e-05, 'system:time_start': 1375868067723, 'REFLECTANCE_MULT_BAND_6': 2.75e-05, 'L1_PROCESSING_LEVEL': 'L1TP', 'PROCESSING_SOFTWARE_VERSION': 'LPGS_15.3.1c', 'L1_DATE_PRODUCT_GENERATED': '2020-09-12T16:39:30Z', 'ORIENTATION': 'NORTH_UP', 'REFLECTANCE_MULT_BAND_1': 2.75e-05, 'WRS_ROW': 25, 'REFLECTANCE_MULT_BAND_3': 2.75e-05, 'REFLECTANCE_MULT_BAND_2': 2.75e-05, 'TARGET_WRS_ROW': 25, 'REFLECTANCE_MULT_BAND_5': 2.75e-05, 'REFLECTANCE_MULT_BAND_4': 2.75e-05, 'THERMAL_LINES': 8051, 'TIRS_SSM_POSITION_STATUS': 'NOMINAL', 'GRID_CELL_SIZE_THERMAL': 30, 'IMAGE_QUALITY_TIRS': 9, 'TRUNCATION_OLI': 'UPPER', 'NADIR_OFFNADIR': 'NADIR', 'CLOUD_COVER': 0.54, 'REQUEST_ID': 'L2', 'EARTH_SUN_DISTANCE': 1.0141122, 'GEOMETRIC_RMSE_VERIFY': 3.087, 'TIRS_SSM_MODEL': 'ACTUAL', 'COLLECTION_CATEGORY': 'T1', 'SCENE_CENTER_TIME': '09:34:27.7232760Z', 'GRID_CELL_SIZE_REFLECTIVE': 30, 'SUN_ELEVATION': 53.10373576, 'ALGORITHM_SOURCE_SURFACE_TEMPERATURE': 'st_1.3.0', 'TEMPERATURE_MAXIMUM_BAND_ST_B10': 372.999941, 'CLOUD_COVER_LAND': 0.54, 'GEOMETRIC_RMSE_MODEL': 4.206, 'ROLL_ANGLE': -0.001, 'COLLECTION_NUMBER': 2, 'DATE_PRODUCT_GENERATED': 1599929489000, 'L1_REQUEST_ID': 'L2', 'DATA_SOURCE_OZONE': 'MODIS', 'SATURATION_BAND_1': 'N', 'DATA_SOURCE_WATER_VAPOR': 'MODIS', 'SATURATION_BAND_2': 'Y', 'SATURATION_BAND_3': 'N', 'IMAGE_QUALITY_OLI': 9, 'SATURATION_BAND_4': 'N', 'LANDSAT_SCENE_ID': 'LC81880252013219LGN01', 'SATURATION_BAND_5': 'Y', 'MAP_PROJECTION': 'UTM', 'SATURATION_BAND_6': 'Y', 'SENSOR_ID': 'OLI_TIRS', 'SATURATION_BAND_7': 'Y', 'SATURATION_BAND_8': 'N', 'WRS_PATH': 188, 'SATURATION_BAND_9': 'N', 'TARGET_WRS_PATH': 188, 'L1_PROCESSING_SOFTWARE_VERSION': 'LPGS_15.3.1c', 'TEMPERATURE_MULT_BAND_ST_B10': 0.00341802, 'L1_LANDSAT_PRODUCT_ID': 'LC08_L1TP_188025_20130807_20200912_02_T1', 'PROCESSING_LEVEL': 'L2SP', 'ALGORITHM_SOURCE_SURFACE_REFLECTANCE': 'LaSRC_1.5.0', 'GROUND_CONTROL_POINTS_MODEL': 1030, 'SPACECRAFT_ID': 'LANDSAT_8', 'TEMPERATURE_MINIMUM_BAND_ST_B10': 149.003418, 'GEOMETRIC_RMSE_MODEL_Y': 3.163, 'REFLECTIVE_LINES': 8051, 'GEOMETRIC_RMSE_MODEL_X': 2.773, 'THERMAL_SAMPLES': 7961, 'system:asset_size': 1011600722, 'DATA_SOURCE_AIR_TEMPERATURE': 'MODIS', 'GROUND_CONTROL_POINTS_VERIFY': 129, 'system:index': 'LC08_188025_20130807'}}\n",
      "{'type': 'Image', 'bands': [{'id': 'SR_B1', 'data_type': {'type': 'PixelType', 'precision': 'int', 'min': 0, 'max': 65535}, 'dimensions': [81, 65], 'origin': [4065, 4668], 'crs': 'EPSG:32634', 'crs_transform': [30, 0, 303585, 0, -30, 5690715]}, {'id': 'SR_B2', 'data_type': {'type': 'PixelType', 'precision': 'int', 'min': 0, 'max': 65535}, 'dimensions': [81, 65], 'origin': [4065, 4668], 'crs': 'EPSG:32634', 'crs_transform': [30, 0, 303585, 0, -30, 5690715]}, {'id': 'SR_B3', 'data_type': {'type': 'PixelType', 'precision': 'int', 'min': 0, 'max': 65535}, 'dimensions': [81, 65], 'origin': [4065, 4668], 'crs': 'EPSG:32634', 'crs_transform': [30, 0, 303585, 0, -30, 5690715]}, {'id': 'SR_B4', 'data_type': {'type': 'PixelType', 'precision': 'int', 'min': 0, 'max': 65535}, 'dimensions': [81, 65], 'origin': [4065, 4668], 'crs': 'EPSG:32634', 'crs_transform': [30, 0, 303585, 0, -30, 5690715]}, {'id': 'SR_B5', 'data_type': {'type': 'PixelType', 'precision': 'int', 'min': 0, 'max': 65535}, 'dimensions': [81, 65], 'origin': [4065, 4668], 'crs': 'EPSG:32634', 'crs_transform': [30, 0, 303585, 0, -30, 5690715]}, {'id': 'SR_B6', 'data_type': {'type': 'PixelType', 'precision': 'int', 'min': 0, 'max': 65535}, 'dimensions': [81, 65], 'origin': [4065, 4668], 'crs': 'EPSG:32634', 'crs_transform': [30, 0, 303585, 0, -30, 5690715]}, {'id': 'SR_B7', 'data_type': {'type': 'PixelType', 'precision': 'int', 'min': 0, 'max': 65535}, 'dimensions': [81, 65], 'origin': [4065, 4668], 'crs': 'EPSG:32634', 'crs_transform': [30, 0, 303585, 0, -30, 5690715]}, {'id': 'SR_QA_AEROSOL', 'data_type': {'type': 'PixelType', 'precision': 'int', 'min': 0, 'max': 255}, 'dimensions': [81, 65], 'origin': [4065, 4668], 'crs': 'EPSG:32634', 'crs_transform': [30, 0, 303585, 0, -30, 5690715]}, {'id': 'ST_B10', 'data_type': {'type': 'PixelType', 'precision': 'int', 'min': 0, 'max': 65535}, 'dimensions': [81, 65], 'origin': [4065, 4668], 'crs': 'EPSG:32634', 'crs_transform': [30, 0, 303585, 0, -30, 5690715]}, {'id': 'ST_ATRAN', 'data_type': {'type': 'PixelType', 'precision': 'int', 'min': -32768, 'max': 32767}, 'dimensions': [81, 65], 'origin': [4065, 4668], 'crs': 'EPSG:32634', 'crs_transform': [30, 0, 303585, 0, -30, 5690715]}, {'id': 'ST_CDIST', 'data_type': {'type': 'PixelType', 'precision': 'int', 'min': -32768, 'max': 32767}, 'dimensions': [81, 65], 'origin': [4065, 4668], 'crs': 'EPSG:32634', 'crs_transform': [30, 0, 303585, 0, -30, 5690715]}, {'id': 'ST_DRAD', 'data_type': {'type': 'PixelType', 'precision': 'int', 'min': -32768, 'max': 32767}, 'dimensions': [81, 65], 'origin': [4065, 4668], 'crs': 'EPSG:32634', 'crs_transform': [30, 0, 303585, 0, -30, 5690715]}, {'id': 'ST_EMIS', 'data_type': {'type': 'PixelType', 'precision': 'int', 'min': -32768, 'max': 32767}, 'dimensions': [81, 65], 'origin': [4065, 4668], 'crs': 'EPSG:32634', 'crs_transform': [30, 0, 303585, 0, -30, 5690715]}, {'id': 'ST_EMSD', 'data_type': {'type': 'PixelType', 'precision': 'int', 'min': -32768, 'max': 32767}, 'dimensions': [81, 65], 'origin': [4065, 4668], 'crs': 'EPSG:32634', 'crs_transform': [30, 0, 303585, 0, -30, 5690715]}, {'id': 'ST_QA', 'data_type': {'type': 'PixelType', 'precision': 'int', 'min': -32768, 'max': 32767}, 'dimensions': [81, 65], 'origin': [4065, 4668], 'crs': 'EPSG:32634', 'crs_transform': [30, 0, 303585, 0, -30, 5690715]}, {'id': 'ST_TRAD', 'data_type': {'type': 'PixelType', 'precision': 'int', 'min': -32768, 'max': 32767}, 'dimensions': [81, 65], 'origin': [4065, 4668], 'crs': 'EPSG:32634', 'crs_transform': [30, 0, 303585, 0, -30, 5690715]}, {'id': 'ST_URAD', 'data_type': {'type': 'PixelType', 'precision': 'int', 'min': -32768, 'max': 32767}, 'dimensions': [81, 65], 'origin': [4065, 4668], 'crs': 'EPSG:32634', 'crs_transform': [30, 0, 303585, 0, -30, 5690715]}, {'id': 'QA_PIXEL', 'data_type': {'type': 'PixelType', 'precision': 'int', 'min': 0, 'max': 65535}, 'dimensions': [81, 65], 'origin': [4065, 4668], 'crs': 'EPSG:32634', 'crs_transform': [30, 0, 303585, 0, -30, 5690715]}, {'id': 'QA_RADSAT', 'data_type': {'type': 'PixelType', 'precision': 'int', 'min': 0, 'max': 65535}, 'dimensions': [81, 65], 'origin': [4065, 4668], 'crs': 'EPSG:32634', 'crs_transform': [30, 0, 303585, 0, -30, 5690715]}], 'version': 1742948028534047, 'id': 'LANDSAT/LC09/C02/T1_L2/LC09_188025_20240813', 'properties': {'system:footprint': {'type': 'Polygon', 'coordinates': [[[19.959293999999996, 50.086612], [19.992467, 50.086612], [19.992467, 50.103601999999995], [19.959294, 50.103602], [19.959293999999996, 50.086612]]]}, 'DATA_SOURCE_ELEVATION': 'GLS2000', 'WRS_TYPE': 2, 'REFLECTANCE_ADD_BAND_1': -0.2, 'REFLECTANCE_ADD_BAND_2': -0.2, 'DATUM': 'WGS84', 'REFLECTANCE_ADD_BAND_3': -0.2, 'REFLECTANCE_ADD_BAND_4': -0.2, 'REFLECTANCE_ADD_BAND_5': -0.2, 'REFLECTANCE_ADD_BAND_6': -0.2, 'REFLECTANCE_ADD_BAND_7': -0.2, 'REFLECTIVE_SAMPLES': 7961, 'GROUND_CONTROL_POINTS_VERSION': 5, 'SUN_AZIMUTH': 151.00639438, 'UTM_ZONE': 34, 'DATE_ACQUIRED': '2024-08-13', 'ELLIPSOID': 'WGS84', 'system:time_end': 1723541522438, 'DATA_SOURCE_PRESSURE': 'Calculated', 'LANDSAT_PRODUCT_ID': 'LC09_L2SP_188025_20240813_20240814_02_T1', 'STATION_ID': 'LGN', 'TEMPERATURE_ADD_BAND_ST_B10': 149, 'DATA_SOURCE_REANALYSIS': 'GEOS-5 IT', 'REFLECTANCE_MULT_BAND_7': 2.75e-05, 'system:time_start': 1723541522438, 'REFLECTANCE_MULT_BAND_6': 2.75e-05, 'L1_PROCESSING_LEVEL': 'L1TP', 'PROCESSING_SOFTWARE_VERSION': 'LPGS_16.4.0', 'L1_DATE_PRODUCT_GENERATED': '2024-08-13T12:59:24Z', 'ORIENTATION': 'NORTH_UP', 'REFLECTANCE_MULT_BAND_1': 2.75e-05, 'WRS_ROW': 25, 'REFLECTANCE_MULT_BAND_3': 2.75e-05, 'REFLECTANCE_MULT_BAND_2': 2.75e-05, 'TARGET_WRS_ROW': 25, 'REFLECTANCE_MULT_BAND_5': 2.75e-05, 'REFLECTANCE_MULT_BAND_4': 2.75e-05, 'THERMAL_LINES': 8051, 'GRID_CELL_SIZE_THERMAL': 30, 'IMAGE_QUALITY_TIRS': 9, 'NADIR_OFFNADIR': 'NADIR', 'CLOUD_COVER': 0.21, 'REQUEST_ID': '1922862_00015', 'EARTH_SUN_DISTANCE': 1.0130954, 'GEOMETRIC_RMSE_VERIFY': 4.877, 'COLLECTION_CATEGORY': 'T1', 'SCENE_CENTER_TIME': '09:32:02.4381940Z', 'GRID_CELL_SIZE_REFLECTIVE': 30, 'SUN_ELEVATION': 51.22317034, 'ALGORITHM_SOURCE_SURFACE_TEMPERATURE': 'st_1.5.0', 'TEMPERATURE_MAXIMUM_BAND_ST_B10': 372.999941, 'CLOUD_COVER_LAND': 0.21, 'GEOMETRIC_RMSE_MODEL': 5.536, 'ROLL_ANGLE': 0, 'COLLECTION_NUMBER': 2, 'DATE_PRODUCT_GENERATED': 1723637260000, 'L1_REQUEST_ID': '1922665_00015', 'DATA_SOURCE_OZONE': 'VIIRS', 'SATURATION_BAND_1': 'Y', 'DATA_SOURCE_WATER_VAPOR': 'VIIRS', 'SATURATION_BAND_2': 'Y', 'SATURATION_BAND_3': 'N', 'IMAGE_QUALITY_OLI': 9, 'SATURATION_BAND_4': 'N', 'LANDSAT_SCENE_ID': 'LC91880252024226LGN00', 'SATURATION_BAND_5': 'Y', 'MAP_PROJECTION': 'UTM', 'SATURATION_BAND_6': 'Y', 'SENSOR_ID': 'OLI_TIRS', 'SATURATION_BAND_7': 'Y', 'SATURATION_BAND_8': 'N', 'WRS_PATH': 188, 'L1_PROCESSING_SOFTWARE_VERSION': 'LPGS_16.4.0', 'SATURATION_BAND_9': 'N', 'TARGET_WRS_PATH': 188, 'L1_LANDSAT_PRODUCT_ID': 'LC09_L1TP_188025_20240813_20240813_02_T1', 'TEMPERATURE_MULT_BAND_ST_B10': 0.00341802, 'PROCESSING_LEVEL': 'L2SP', 'ALGORITHM_SOURCE_SURFACE_REFLECTANCE': 'LaSRC_1.6.0', 'GROUND_CONTROL_POINTS_MODEL': 916, 'SPACECRAFT_ID': 'LANDSAT_9', 'TEMPERATURE_MINIMUM_BAND_ST_B10': 149.003418, 'GEOMETRIC_RMSE_MODEL_Y': 3.751, 'REFLECTIVE_LINES': 8051, 'GEOMETRIC_RMSE_MODEL_X': 4.072, 'THERMAL_SAMPLES': 7961, 'system:asset_size': 1010633771, 'DATA_SOURCE_AIR_TEMPERATURE': 'VIIRS', 'GROUND_CONTROL_POINTS_VERIFY': 142, 'system:index': 'LC09_188025_20240813'}}\n"
     ]
    },
    {
     "data": {
      "application/vnd.jupyter.widget-view+json": {
       "model_id": "be1d785190254a21afc0773a0a6f47dd",
       "version_major": 2,
       "version_minor": 0
      },
      "text/plain": [
       "Map(center=[50.09510767944391, 19.975880499991693], controls=(WidgetControl(options=['position', 'transparent_…"
      ]
     },
     "execution_count": 48,
     "metadata": {},
     "output_type": "execute_result"
    }
   ],
   "source": [
    "import geemap \n",
    "start_2013 = ee.Date('2013-08-07') # dzien wczesniej bo na 08 nie ma zdj\n",
    "end_2013 = ee.Date('2013-08-08')\n",
    "start_2024 = ee.Date('2024-08-06') # zakres 26-31 bo i tak wszystko >27 stopni\n",
    "end_2024 = ee.Date('2024-08-16')\n",
    "\n",
    "image_2013 = ee.ImageCollection('LANDSAT/LC08/C02/T1_L2').filterBounds(aoi).filterDate(start_2013, end_2013).filterMetadata('CLOUD_COVER', 'less_than', 20).first()\n",
    "image_2024 = ee.ImageCollection('LANDSAT/LC09/C02/T1_L2').filterBounds(aoi).filterDate(start_2024, end_2024).filterMetadata('CLOUD_COVER', 'less_than', 20).first()\n",
    "image_2013 = image_2013.clip(aoi)\n",
    "image_2024 = image_2024.clip(aoi)\n",
    "\n",
    "print(image_2013.getInfo())\n",
    "print(image_2024.getInfo())\n",
    "\n",
    "vis_params = {\n",
    "    'bands': ['SR_B4', 'SR_B3', 'SR_B2'],\n",
    "    'min': 5000,\n",
    "    'max': 15000,\n",
    "    'gamma': 1.3\n",
    "}\n",
    "center = aoi.centroid(10).coordinates().reverse().getInfo()\n",
    "\n",
    "Map = geemap.Map(center=center, zoom=15)\n",
    "\n",
    "Map.addLayer(image_2013, vis_params, 'Landsat 2013-08-08')\n",
    "Map.addLayer(image_2024, vis_params, 'Landsat 2024-08-25')\n",
    "\n",
    "Map\n",
    "\n"
   ]
  },
  {
   "cell_type": "markdown",
   "id": "721a6015",
   "metadata": {},
   "source": [
    "## Task 4: Process Thermal Band (ST_B10)\n",
    "- Convert Band 10 to Brightness Temperature (Kelvin):\n",
    "  `TB = ST_B10 * 0.00341802 + 149.0`\n",
    "- Create a visualization of each image using the same color scale."
   ]
  },
  {
   "cell_type": "code",
   "execution_count": 49,
   "id": "04b34616",
   "metadata": {},
   "outputs": [
    {
     "data": {
      "text/html": [
       "\n",
       "            <style>\n",
       "                .geemap-dark {\n",
       "                    --jp-widgets-color: white;\n",
       "                    --jp-widgets-label-color: white;\n",
       "                    --jp-ui-font-color1: white;\n",
       "                    --jp-layout-color2: #454545;\n",
       "                    background-color: #383838;\n",
       "                }\n",
       "\n",
       "                .geemap-dark .jupyter-button {\n",
       "                    --jp-layout-color3: #383838;\n",
       "                }\n",
       "\n",
       "                .geemap-colab {\n",
       "                    background-color: var(--colab-primary-surface-color, white);\n",
       "                }\n",
       "\n",
       "                .geemap-colab .jupyter-button {\n",
       "                    --jp-layout-color3: var(--colab-primary-surface-color, white);\n",
       "                }\n",
       "            </style>\n",
       "            "
      ],
      "text/plain": [
       "<IPython.core.display.HTML object>"
      ]
     },
     "metadata": {},
     "output_type": "display_data"
    },
    {
     "name": "stdout",
     "output_type": "stream",
     "text": [
      "Avg Brightness Temp 2013: {'ST_B10': 314.7625002182668}\n",
      "Avg Brightness Temp 2024: {'ST_B10': 305.724655979958}\n"
     ]
    },
    {
     "data": {
      "application/vnd.jupyter.widget-view+json": {
       "model_id": "15fed71859f14ab6afd8dc340176a289",
       "version_major": 2,
       "version_minor": 0
      },
      "text/plain": [
       "Map(center=[50.09510767944391, 19.975880499991693], controls=(WidgetControl(options=['position', 'transparent_…"
      ]
     },
     "execution_count": 49,
     "metadata": {},
     "output_type": "execute_result"
    }
   ],
   "source": [
    "\n",
    "bt_2013 = image_2013.select('ST_B10').multiply(0.00341802).add(149.0)\n",
    "bt_2024 = image_2024.select('ST_B10').multiply(0.00341802).add(149.0)\n",
    "\n",
    "\n",
    "thermal_vis = {\n",
    "    'min': 290,\n",
    "    'max': 320,\n",
    "    'palette': ['blue', 'cyan', 'green', 'yellow', 'red']\n",
    "}\n",
    "\n",
    "center = aoi.centroid(10).coordinates().reverse().getInfo()\n",
    "Map = geemap.Map(center=center, zoom=15)\n",
    "Map.addLayer(bt_2013, thermal_vis, '2013 Brightness Temp')\n",
    "Map.addLayer(bt_2024, thermal_vis, '2024 Brightness Temp')\n",
    "Map"
   ]
  },
  {
   "cell_type": "markdown",
   "id": "aa3b092a",
   "metadata": {},
   "source": [
    "## Task 5: Compare and Interpret\n",
    "- Compare the two maps.\n",
    "- Optionally calculate difference: `TB_2024 - TB_2013`\n",
    "- Discuss: did the surface temperature increase in the area?\n",
    "- Is there evidence of an Urban Heat Island effect related to development?"
   ]
  },
  {
   "cell_type": "code",
   "execution_count": 52,
   "id": "ed003133",
   "metadata": {},
   "outputs": [
    {
     "data": {
      "text/html": [
       "\n",
       "            <style>\n",
       "                .geemap-dark {\n",
       "                    --jp-widgets-color: white;\n",
       "                    --jp-widgets-label-color: white;\n",
       "                    --jp-ui-font-color1: white;\n",
       "                    --jp-layout-color2: #454545;\n",
       "                    background-color: #383838;\n",
       "                }\n",
       "\n",
       "                .geemap-dark .jupyter-button {\n",
       "                    --jp-layout-color3: #383838;\n",
       "                }\n",
       "\n",
       "                .geemap-colab {\n",
       "                    background-color: var(--colab-primary-surface-color, white);\n",
       "                }\n",
       "\n",
       "                .geemap-colab .jupyter-button {\n",
       "                    --jp-layout-color3: var(--colab-primary-surface-color, white);\n",
       "                }\n",
       "            </style>\n",
       "            "
      ],
      "text/plain": [
       "<IPython.core.display.HTML object>"
      ]
     },
     "metadata": {},
     "output_type": "display_data"
    },
    {
     "name": "stdout",
     "output_type": "stream",
     "text": [
      "Average Brightness Temperature 2013 (K): {'ST_B10': 314.7625002182668}\n",
      "Average Brightness Temperature 2024 (K): {'ST_B10': 305.724655979958}\n",
      "Difference (K): {'ST_B10': -9.037844238309303}\n"
     ]
    },
    {
     "data": {
      "application/vnd.jupyter.widget-view+json": {
       "model_id": "e83dd3bb9b354c21b3b1ef5fc0bb685d",
       "version_major": 2,
       "version_minor": 0
      },
      "text/plain": [
       "Map(center=[50.09510767944391, 19.975880499991693], controls=(WidgetControl(options=['position', 'transparent_…"
      ]
     },
     "execution_count": 52,
     "metadata": {},
     "output_type": "execute_result"
    }
   ],
   "source": [
    "bt_diff = bt_2024.subtract(bt_2013)\n",
    "\n",
    "diff_vis = {\n",
    "    'min': -5,\n",
    "    'max': 5,\n",
    "    'palette': ['blue', 'white', 'red']  # Blue = cooler in 2024, Red = hotter in 2024\n",
    "}\n",
    "\n",
    "\n",
    "\n",
    "mean_2013 = bt_2013.reduceRegion(\n",
    "    reducer=ee.Reducer.mean(),\n",
    "    geometry=aoi,\n",
    "    scale=30,\n",
    "    maxPixels=1e9\n",
    ").getInfo()\n",
    "\n",
    "mean_2024 = bt_2024.reduceRegion(\n",
    "    reducer=ee.Reducer.mean(),\n",
    "    geometry=aoi,\n",
    "    scale=30,\n",
    "    maxPixels=1e9\n",
    ").getInfo()\n",
    "\n",
    "mean_diff = bt_diff.reduceRegion(\n",
    "    reducer=ee.Reducer.mean(),\n",
    "    geometry=aoi,\n",
    "    scale=30,\n",
    "    maxPixels=1e9\n",
    ").getInfo()\n",
    "\n",
    "print(\"Average Brightness Temperature 2013 (K):\", mean_2013)\n",
    "print(\"Average Brightness Temperature 2024 (K):\", mean_2024)\n",
    "print(\"Difference (K):\", mean_diff)\n",
    "\n",
    "\n",
    "center = aoi.centroid(10).coordinates().reverse().getInfo()\n",
    "Map = geemap.Map(center=center, zoom=15)\n",
    "\n",
    "\n",
    "Map.addLayer(bt_diff, diff_vis, 'Temperature Difference (2024 - 2013)')\n",
    "\n",
    "\n",
    "Map\n",
    "\n",
    "\n",
    "\n",
    "# '''\n",
    "# according to the data from 2013, the average brightness temperature was 314.7 K, while in 2024 it was 305.7 Kk\n",
    "# this indicates that the temperature in 2024 was lower than in 2013, which is contrary to the expectations of the climate crisis.\n",
    "# this may be due to the fact that the data from 2013 is from August 8, while the data from 2024 is from August 26, which is a period of time when the temperature is usually higher in Poland.\n",
    "# '''"
   ]
  }
 ],
 "metadata": {
  "kernelspec": {
   "display_name": "eo_lab",
   "language": "python",
   "name": "python3"
  },
  "language_info": {
   "codemirror_mode": {
    "name": "ipython",
    "version": 3
   },
   "file_extension": ".py",
   "mimetype": "text/x-python",
   "name": "python",
   "nbconvert_exporter": "python",
   "pygments_lexer": "ipython3",
   "version": "3.9.21"
  }
 },
 "nbformat": 4,
 "nbformat_minor": 5
}
