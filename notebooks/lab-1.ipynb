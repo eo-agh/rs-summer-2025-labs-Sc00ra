{
 "cells": [
  {
   "cell_type": "markdown",
   "id": "6a35dba3",
   "metadata": {},
   "source": [
    "# Laboratory Exercise 1: Introduction to Google Earth Engine (GEE)\n",
    "In this lab, you will learn how to initialize Google Earth Engine (GEE), select satellite images, visualize data, and analyze basic metadata."
   ]
  },
  {
   "cell_type": "markdown",
   "id": "1c5f6c68",
   "metadata": {},
   "source": [
    "## Task 1: Initialize Google Earth Engine\n",
    "Authenticate and initialize the Google Earth Engine (GEE) API."
   ]
  },
  {
   "cell_type": "code",
   "execution_count": 1,
   "id": "2dbfdbda",
   "metadata": {},
   "outputs": [],
   "source": [
    "import ee\n",
    "import geemap\n",
    "# Authenticate and initialize GEE\n",
    "# TODO: Use the Earth Engine library to authenticate and initialize your session\n",
    "#ee.Authenticate()\n",
    "ee.Initialize(project='ee-skoraremotesensing')\n"
   ]
  },
  {
   "cell_type": "markdown",
   "id": "7b7d36d4",
   "metadata": {},
   "source": [
    "## Task 2: Define Area of Interest (AOI)\n",
    "Define your area of interest (AOI). You can use either a point or a bounding box.\n",
    "Example coordinates are provided below (Krakow, Poland). Adjust them for your location."
   ]
  },
  {
   "cell_type": "code",
   "execution_count": 35,
   "id": "75f06d59",
   "metadata": {},
   "outputs": [
    {
     "data": {
      "text/html": [
       "\n",
       "            <style>\n",
       "                .geemap-dark {\n",
       "                    --jp-widgets-color: white;\n",
       "                    --jp-widgets-label-color: white;\n",
       "                    --jp-ui-font-color1: white;\n",
       "                    --jp-layout-color2: #454545;\n",
       "                    background-color: #383838;\n",
       "                }\n",
       "\n",
       "                .geemap-dark .jupyter-button {\n",
       "                    --jp-layout-color3: #383838;\n",
       "                }\n",
       "\n",
       "                .geemap-colab {\n",
       "                    background-color: var(--colab-primary-surface-color, white);\n",
       "                }\n",
       "\n",
       "                .geemap-colab .jupyter-button {\n",
       "                    --jp-layout-color3: var(--colab-primary-surface-color, white);\n",
       "                }\n",
       "            </style>\n",
       "            "
      ],
      "text/plain": [
       "<IPython.core.display.HTML object>"
      ]
     },
     "metadata": {},
     "output_type": "display_data"
    }
   ],
   "source": [
    "# Define AOI\n",
    "# TODO: Replace with your coordinates\n",
    "aoi = ee.Geometry.Point([18.6274611,54.3646395])  # Example: Krakow\n",
    "# or\n",
    "# aoi = ee.Geometry.Rectangle([west, south, east, north])"
   ]
  },
  {
   "cell_type": "markdown",
   "id": "fc029d60",
   "metadata": {},
   "source": [
    "## Task 3: Retrieve Sentinel-2 Data\n",
    "Retrieve Sentinel-2 imagery for your defined AOI within a specific date range. Sort the images based on cloud cover percentage."
   ]
  },
  {
   "cell_type": "code",
   "execution_count": 36,
   "id": "5e08ded8",
   "metadata": {},
   "outputs": [
    {
     "data": {
      "text/html": [
       "\n",
       "            <style>\n",
       "                .geemap-dark {\n",
       "                    --jp-widgets-color: white;\n",
       "                    --jp-widgets-label-color: white;\n",
       "                    --jp-ui-font-color1: white;\n",
       "                    --jp-layout-color2: #454545;\n",
       "                    background-color: #383838;\n",
       "                }\n",
       "\n",
       "                .geemap-dark .jupyter-button {\n",
       "                    --jp-layout-color3: #383838;\n",
       "                }\n",
       "\n",
       "                .geemap-colab {\n",
       "                    background-color: var(--colab-primary-surface-color, white);\n",
       "                }\n",
       "\n",
       "                .geemap-colab .jupyter-button {\n",
       "                    --jp-layout-color3: var(--colab-primary-surface-color, white);\n",
       "                }\n",
       "            </style>\n",
       "            "
      ],
      "text/plain": [
       "<IPython.core.display.HTML object>"
      ]
     },
     "metadata": {},
     "output_type": "display_data"
    },
    {
     "name": "stdout",
     "output_type": "stream",
     "text": [
      "{'type': 'Image', 'bands': [{'id': 'B1', 'data_type': {'type': 'PixelType', 'precision': 'int', 'min': 0, 'max': 65535}, 'dimensions': [1830, 1830], 'crs': 'EPSG:32634', 'crs_transform': [60, 0, 300000, 0, -60, 6100020]}, {'id': 'B2', 'data_type': {'type': 'PixelType', 'precision': 'int', 'min': 0, 'max': 65535}, 'dimensions': [10980, 10980], 'crs': 'EPSG:32634', 'crs_transform': [10, 0, 300000, 0, -10, 6100020]}, {'id': 'B3', 'data_type': {'type': 'PixelType', 'precision': 'int', 'min': 0, 'max': 65535}, 'dimensions': [10980, 10980], 'crs': 'EPSG:32634', 'crs_transform': [10, 0, 300000, 0, -10, 6100020]}, {'id': 'B4', 'data_type': {'type': 'PixelType', 'precision': 'int', 'min': 0, 'max': 65535}, 'dimensions': [10980, 10980], 'crs': 'EPSG:32634', 'crs_transform': [10, 0, 300000, 0, -10, 6100020]}, {'id': 'B5', 'data_type': {'type': 'PixelType', 'precision': 'int', 'min': 0, 'max': 65535}, 'dimensions': [5490, 5490], 'crs': 'EPSG:32634', 'crs_transform': [20, 0, 300000, 0, -20, 6100020]}, {'id': 'B6', 'data_type': {'type': 'PixelType', 'precision': 'int', 'min': 0, 'max': 65535}, 'dimensions': [5490, 5490], 'crs': 'EPSG:32634', 'crs_transform': [20, 0, 300000, 0, -20, 6100020]}, {'id': 'B7', 'data_type': {'type': 'PixelType', 'precision': 'int', 'min': 0, 'max': 65535}, 'dimensions': [5490, 5490], 'crs': 'EPSG:32634', 'crs_transform': [20, 0, 300000, 0, -20, 6100020]}, {'id': 'B8', 'data_type': {'type': 'PixelType', 'precision': 'int', 'min': 0, 'max': 65535}, 'dimensions': [10980, 10980], 'crs': 'EPSG:32634', 'crs_transform': [10, 0, 300000, 0, -10, 6100020]}, {'id': 'B8A', 'data_type': {'type': 'PixelType', 'precision': 'int', 'min': 0, 'max': 65535}, 'dimensions': [5490, 5490], 'crs': 'EPSG:32634', 'crs_transform': [20, 0, 300000, 0, -20, 6100020]}, {'id': 'B9', 'data_type': {'type': 'PixelType', 'precision': 'int', 'min': 0, 'max': 65535}, 'dimensions': [1830, 1830], 'crs': 'EPSG:32634', 'crs_transform': [60, 0, 300000, 0, -60, 6100020]}, {'id': 'B10', 'data_type': {'type': 'PixelType', 'precision': 'int', 'min': 0, 'max': 65535}, 'dimensions': [1830, 1830], 'crs': 'EPSG:32634', 'crs_transform': [60, 0, 300000, 0, -60, 6100020]}, {'id': 'B11', 'data_type': {'type': 'PixelType', 'precision': 'int', 'min': 0, 'max': 65535}, 'dimensions': [5490, 5490], 'crs': 'EPSG:32634', 'crs_transform': [20, 0, 300000, 0, -20, 6100020]}, {'id': 'B12', 'data_type': {'type': 'PixelType', 'precision': 'int', 'min': 0, 'max': 65535}, 'dimensions': [5490, 5490], 'crs': 'EPSG:32634', 'crs_transform': [20, 0, 300000, 0, -20, 6100020]}, {'id': 'QA10', 'data_type': {'type': 'PixelType', 'precision': 'int', 'min': 0, 'max': 65535}, 'dimensions': [10980, 10980], 'crs': 'EPSG:32634', 'crs_transform': [10, 0, 300000, 0, -10, 6100020]}, {'id': 'QA20', 'data_type': {'type': 'PixelType', 'precision': 'int', 'min': 0, 'max': 4294967295}, 'dimensions': [5490, 5490], 'crs': 'EPSG:32634', 'crs_transform': [20, 0, 300000, 0, -20, 6100020]}, {'id': 'QA60', 'data_type': {'type': 'PixelType', 'precision': 'int', 'min': 0, 'max': 65535}, 'dimensions': [1830, 1830], 'crs': 'EPSG:32634', 'crs_transform': [60, 0, 300000, 0, -60, 6100020]}, {'id': 'MSK_CLASSI_OPAQUE', 'data_type': {'type': 'PixelType', 'precision': 'int', 'min': 0, 'max': 255}, 'crs': 'EPSG:4326', 'crs_transform': [1, 0, 0, 0, 1, 0]}, {'id': 'MSK_CLASSI_CIRRUS', 'data_type': {'type': 'PixelType', 'precision': 'int', 'min': 0, 'max': 255}, 'crs': 'EPSG:4326', 'crs_transform': [1, 0, 0, 0, 1, 0]}, {'id': 'MSK_CLASSI_SNOW_ICE', 'data_type': {'type': 'PixelType', 'precision': 'int', 'min': 0, 'max': 255}, 'crs': 'EPSG:4326', 'crs_transform': [1, 0, 0, 0, 1, 0]}], 'version': 1742389444698657, 'id': 'COPERNICUS/S2_HARMONIZED/20150628T095308_20160606T075555_T34UCF', 'properties': {'DATATAKE_IDENTIFIER': 'GS2A_20150628T095227_000076_N02.02', 'SPACECRAFT_NAME': 'Sentinel-2A', 'FORMAT_CORRECTNESS_FLAG': 'PASSED', 'IERS_BULLETIN_FILENAME': 'S2__OPER_AUX_UT1UTC_PDMC_20150625T000000_V20150626T000000_20160625T000000', 'MEAN_INCIDENCE_AZIMUTH_ANGLE_B8A': 103.744590571995, 'MEAN_SOLAR_AZIMUTH_ANGLE': 157.802922621785, 'system:footprint': {'type': 'LinearRing', 'coordinates': [[19.588299216077203, 55.03884178075371], [19.588239930758792, 55.03888966457677], [18.325458254933377, 55.017683191043204], [18.325408940271508, 55.017656308722856], [18.32534178010803, 55.01764952378576], [18.325321224710958, 55.01763035259585], [18.324021446819035, 55.015981776917926], [18.32230394983344, 55.013510286935585], [18.319831282309615, 55.00832674620649], [18.236243747968672, 54.83168823122428], [18.085647836669857, 54.50908164170186], [17.937323340420342, 54.186302314701635], [17.93500223011367, 54.18029541215521], [17.946691421230263, 54.02160635935823], [17.94675664724116, 54.021566443870526], [17.94681634815995, 54.02151939612631], [19.621864150780922, 54.05239807701494], [19.621933545325884, 54.052435418079945], [19.622015085624497, 54.05246940463307], [19.605443881052885, 54.54566743953015], [19.588364533960767, 55.038801114082396], [19.588299216077203, 55.03884178075371]]}, 'SOLAR_IRRADIANCE_B12': 85.25, 'SOLAR_IRRADIANCE_B10': 367.15, 'SENSOR_QUALITY': 'PASSED', 'SOLAR_IRRADIANCE_B11': 245.59, 'GENERATION_TIME': 1465257772000, 'SOLAR_IRRADIANCE_B8A': 955.19, 'FORMAT_CORRECTNESS': 'PASSED', 'PRODUCT_URI': '372_2016-06-06T21_58', 'SENSOR_QUALITY_FLAG': 'PASSED', 'CLOUD_COVERAGE_ASSESSMENT': 14.805421428571426, 'system:time_end': 1435485188147, 'system:time_start': 1435485188147, 'DATASTRIP_ID': 'S2A_OPER_MSI_L1C_DS_EPA__20160606T075555_S20150628T095308_N02.02', 'PROCESSING_BASELINE': '02.02', 'SENSING_ORBIT_NUMBER': 76, 'GEOMETRIC_QUALITY_FLAG': 'FAILED', 'SENSING_ORBIT_DIRECTION': 'DESCENDING', 'GENERAL_QUALITY': 'PASSED', 'GRANULE_ID': 'S2A_OPER_MSI_L1C_TL_EPA__20160606T075555_A000076_T34UCF_N02.02', 'REFLECTANCE_CONVERSION_CORRECTION': 0.967863186562326, 'MEAN_INCIDENCE_AZIMUTH_ANGLE_B8': 103.432151587321, 'DATATAKE_TYPE': 'INS-NOBS', 'MEAN_INCIDENCE_AZIMUTH_ANGLE_B9': 103.850477315454, 'MEAN_INCIDENCE_AZIMUTH_ANGLE_B6': 103.627819148291, 'MEAN_INCIDENCE_AZIMUTH_ANGLE_B7': 103.678324689213, 'RADIOMETRIC_QUALITY_FLAG': 'PASSED', 'MEAN_INCIDENCE_AZIMUTH_ANGLE_B4': 103.522198031911, 'MEAN_INCIDENCE_ZENITH_ANGLE_B1': 8.15423208361935, 'MEAN_INCIDENCE_AZIMUTH_ANGLE_B5': 103.590473147172, 'RADIOMETRIC_QUALITY': 'PASSED', 'MEAN_INCIDENCE_AZIMUTH_ANGLE_B2': 103.399914097109, 'MEAN_INCIDENCE_AZIMUTH_ANGLE_B3': 103.470907159711, 'MEAN_INCIDENCE_ZENITH_ANGLE_B5': 8.04027091647691, 'MEAN_INCIDENCE_AZIMUTH_ANGLE_B1': 103.844619328345, 'MEAN_INCIDENCE_ZENITH_ANGLE_B4': 8.01812163917749, 'MEAN_INCIDENCE_ZENITH_ANGLE_B3': 7.988933150072, 'MEAN_INCIDENCE_ZENITH_ANGLE_B2': 7.95550059861084, 'MEAN_INCIDENCE_ZENITH_ANGLE_B9': 8.18613865610497, 'MEAN_INCIDENCE_ZENITH_ANGLE_B8': 7.97092058233501, 'MEAN_INCIDENCE_ZENITH_ANGLE_B7': 8.09193503422035, 'MEAN_INCIDENCE_ZENITH_ANGLE_B6': 8.0648329877437, 'MEAN_SOLAR_ZENITH_ANGLE': 32.6962196141252, 'MEAN_INCIDENCE_ZENITH_ANGLE_B8A': 8.12188163947494, 'GRI_FILENAME': 'S2A_OPER_AUX_GRI065_PDMC_20130621T120000_S20130101T000000', 'MGRS_TILE': '34UCF', 'PRODUCTION_DEM_TYPE': 'S2__OPER_DEM_GLOBEF_PDMC_19800101T000000_S19800101T000000', 'CLOUDY_PIXEL_PERCENTAGE': 20.5142, 'GENERAL_QUALITY_FLAG': 'PASSED', 'PRODUCT_ID': 'S2A_OPER_PRD_MSIL1C_PDMC_20160607T000252_R076_V20150628T095308_20150628T095308', 'ECMWF_DATA_REF': 'S2__OPER_AUX_ECMWFD_FAKE_19800101T000000_V19800101T000000_19800101T000000', 'MEAN_INCIDENCE_ZENITH_ANGLE_B10': 8.00322382077278, 'SOLAR_IRRADIANCE_B9': 813.04, 'DEGRADED_MSI_DATA_PERCENTAGE': 0, 'MEAN_INCIDENCE_ZENITH_ANGLE_B11': 8.05992368005119, 'MEAN_INCIDENCE_ZENITH_ANGLE_B12': 8.12806858590757, 'SOLAR_IRRADIANCE_B6': 1288.32, 'MEAN_INCIDENCE_AZIMUTH_ANGLE_B10': 103.546780256848, 'SOLAR_IRRADIANCE_B5': 1425.56, 'MEAN_INCIDENCE_AZIMUTH_ANGLE_B11': 103.636029378762, 'SOLAR_IRRADIANCE_B8': 1036.39, 'MEAN_INCIDENCE_AZIMUTH_ANGLE_B12': 103.764548185608, 'SOLAR_IRRADIANCE_B7': 1163.19, 'SOLAR_IRRADIANCE_B2': 1941.63, 'SOLAR_IRRADIANCE_B1': 1913.57, 'SOLAR_IRRADIANCE_B4': 1512.79, 'GEOMETRIC_QUALITY': 'FAILED', 'SOLAR_IRRADIANCE_B3': 1822.61, 'system:asset_size': 1016427194, 'system:index': '20150628T095308_20160606T075555_T34UCF'}}\n"
     ]
    }
   ],
   "source": [
    "# Retrieve Sentinel-2 Data\n",
    "# TODO: Adjust the date range and retrieve the least cloudy Sentinel-2 image\n",
    "sentinel2 = ee.ImageCollection('COPERNICUS/S2_HARMONIZED').filterBounds(aoi)\n",
    "# print(sentinel2.size().getInfo())\n",
    "image = sentinel2.first()\n",
    "metadata = image.getInfo()\n",
    "print(metadata)"
   ]
  },
  {
   "cell_type": "markdown",
   "id": "8024b605",
   "metadata": {},
   "source": [
    "## Task 4: Extract Image Metadata\n",
    "Extract and print metadata from the selected image, such as ID, cloud cover percentage, mean solar azimuth and zenith angles, and processing level."
   ]
  },
  {
   "cell_type": "code",
   "execution_count": 38,
   "id": "14d34b82",
   "metadata": {},
   "outputs": [
    {
     "data": {
      "text/html": [
       "\n",
       "            <style>\n",
       "                .geemap-dark {\n",
       "                    --jp-widgets-color: white;\n",
       "                    --jp-widgets-label-color: white;\n",
       "                    --jp-ui-font-color1: white;\n",
       "                    --jp-layout-color2: #454545;\n",
       "                    background-color: #383838;\n",
       "                }\n",
       "\n",
       "                .geemap-dark .jupyter-button {\n",
       "                    --jp-layout-color3: #383838;\n",
       "                }\n",
       "\n",
       "                .geemap-colab {\n",
       "                    background-color: var(--colab-primary-surface-color, white);\n",
       "                }\n",
       "\n",
       "                .geemap-colab .jupyter-button {\n",
       "                    --jp-layout-color3: var(--colab-primary-surface-color, white);\n",
       "                }\n",
       "            </style>\n",
       "            "
      ],
      "text/plain": [
       "<IPython.core.display.HTML object>"
      ]
     },
     "metadata": {},
     "output_type": "display_data"
    }
   ],
   "source": [
    "# Extract metadata\n",
    "# TODO: Retrieve and display image metadata\n",
    "properties = metadata[\"properties\"]\n",
    "id= metadata[\"id\"]\n",
    "cloud_cover_procentage = properties[\"CLOUDY_PIXEL_PERCENTAGE\"]\n",
    "mean_solar_azimuth = properties[\"MEAN_SOLAR_AZIMUTH_ANGLE\"]\n",
    "zenith_angle_B1 = properties[\"MEAN_INCIDENCE_ZENITH_ANGLE_B1\"]\n",
    "zenith_angle_B2 = properties[\"MEAN_INCIDENCE_ZENITH_ANGLE_B2\"]\n",
    "zenith_angle_B3 = properties[\"MEAN_INCIDENCE_ZENITH_ANGLE_B3\"]\n",
    "zenith_angle_B4 = properties[\"MEAN_INCIDENCE_ZENITH_ANGLE_B4\"]\n",
    "zenith_angle_B5 = properties[\"MEAN_INCIDENCE_ZENITH_ANGLE_B5\"]\n",
    "zenith_angle_B6 = properties[\"MEAN_INCIDENCE_ZENITH_ANGLE_B6\"]\n",
    "zenith_angle_B7 = properties[\"MEAN_INCIDENCE_ZENITH_ANGLE_B7\"]\n",
    "zenith_angle_B8 = properties[\"MEAN_INCIDENCE_ZENITH_ANGLE_B8\"]\n",
    "zenith_angle_B8A = properties[\"MEAN_INCIDENCE_ZENITH_ANGLE_B8A\"]\n",
    "zenith_angle_B9 = properties[\"MEAN_INCIDENCE_ZENITH_ANGLE_B9\"]\n",
    "zenith_angle_B10 = properties[\"MEAN_INCIDENCE_ZENITH_ANGLE_B10\"]\n",
    "zenith_angle_B11 = properties[\"MEAN_INCIDENCE_ZENITH_ANGLE_B11\"]\n",
    "zenith_angle_B12 = properties[\"MEAN_INCIDENCE_ZENITH_ANGLE_B12\"]\n",
    "processing_level = properties[\"PRODUCT_ID\"][7:9]\n",
    "\n",
    "\n",
    "\n",
    "\n",
    "\n",
    "\n"
   ]
  },
  {
   "cell_type": "markdown",
   "id": "d5113faa",
   "metadata": {},
   "source": [
    "## Task 5: Visualize Image\n",
    "Create a map and visualize the Sentinel-2 image using different visualization parameters (e.g., true color, false color)."
   ]
  },
  {
   "cell_type": "code",
   "execution_count": 42,
   "id": "ffe9a4f2",
   "metadata": {},
   "outputs": [
    {
     "data": {
      "text/html": [
       "\n",
       "            <style>\n",
       "                .geemap-dark {\n",
       "                    --jp-widgets-color: white;\n",
       "                    --jp-widgets-label-color: white;\n",
       "                    --jp-ui-font-color1: white;\n",
       "                    --jp-layout-color2: #454545;\n",
       "                    background-color: #383838;\n",
       "                }\n",
       "\n",
       "                .geemap-dark .jupyter-button {\n",
       "                    --jp-layout-color3: #383838;\n",
       "                }\n",
       "\n",
       "                .geemap-colab {\n",
       "                    background-color: var(--colab-primary-surface-color, white);\n",
       "                }\n",
       "\n",
       "                .geemap-colab .jupyter-button {\n",
       "                    --jp-layout-color3: var(--colab-primary-surface-color, white);\n",
       "                }\n",
       "            </style>\n",
       "            "
      ],
      "text/plain": [
       "<IPython.core.display.HTML object>"
      ]
     },
     "metadata": {},
     "output_type": "display_data"
    },
    {
     "data": {
      "application/vnd.jupyter.widget-view+json": {
       "model_id": "290747aa51a14f6a89e8fb7c65817ca3",
       "version_major": 2,
       "version_minor": 0
      },
      "text/plain": [
       "Map(center=[54.50746426611521, 18.845584668938958], controls=(WidgetControl(options=['position', 'transparent_…"
      ]
     },
     "execution_count": 42,
     "metadata": {},
     "output_type": "execute_result"
    }
   ],
   "source": [
    "# Visualization\n",
    "# TODO: Create visualization layers using true color and false color compositions\n",
    "# Example parameters provided below:\n",
    "true_color_params = {'bands': ['B4', 'B3', 'B2'], 'min': 0, 'max': 3000}\n",
    "false_color_params = {'bands': ['B8', 'B4', 'B3'], 'min': 0, 'max': 5000}\n",
    "\n",
    "\n",
    "# TODO: Add these layers to an interactive map\n",
    "# Map = geemap.Map()\n",
    "# Map.addLayer(image,true_color_params,\"First image\")\n",
    "# Map.centerObject(image,8)\n",
    "# Map\n",
    "Map2 = geemap.Map()\n",
    "Map2.addLayer(image,false_color_params,\"First image\")\n",
    "Map2.centerObject(image,8)\n",
    "Map2"
   ]
  },
  {
   "cell_type": "markdown",
   "id": "cfc58f9d",
   "metadata": {},
   "source": [
    "## Submission\n",
    "Save your completed notebook and submit it to your course repository."
   ]
  }
 ],
 "metadata": {
  "kernelspec": {
   "display_name": "eo_lab",
   "language": "python",
   "name": "python3"
  },
  "language_info": {
   "codemirror_mode": {
    "name": "ipython",
    "version": 3
   },
   "file_extension": ".py",
   "mimetype": "text/x-python",
   "name": "python",
   "nbconvert_exporter": "python",
   "pygments_lexer": "ipython3",
   "version": "3.9.21"
  }
 },
 "nbformat": 4,
 "nbformat_minor": 2
}
